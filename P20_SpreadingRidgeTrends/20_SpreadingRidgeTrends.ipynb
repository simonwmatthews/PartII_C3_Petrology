{
 "cells": [
  {
   "cell_type": "markdown",
   "id": "c25a4e49-7379-4c7e-9556-796f0f2dab66",
   "metadata": {
    "tags": []
   },
   "source": [
    "# Part II C3 Petrology - Practical 20: MORB Global Systematics\n",
    "*Simon Matthews (sm905@cam.ac.uk), Lent 2023*\n",
    "\n",
    "In this practical you will extract and analyse geochemical and geophysical data for the global mid-ocean ridge system with the aim of identifying what the primary controls on the composition of MORB are. The practical will also demonstrate how we can use computers and relatively simple python scripts to handle large datasets efficiently and perform otherwise time consuming calculations.\n",
    "\n",
    "All the practicals in this part of the course are contained in Jupyter Notebooks which can be run in the cloud on a service called myBinder. This means they should work on *any* computer, provided it has a modern web browser. The notebooks allow you to run code alongside text and images and allow you to conveniently save the output from the code. Whole scientific papers (e.g. https://mybinder.org/v2/gh/kaylai/vesical-binder/HEAD?filepath=Manuscript.ipynb) can be written in Jupyter Notebooks! **However, all the work you do is stored on a server in the cloud and will disappear when you shut the window, so make sure you download a copy!** To do this, click `File` in the top-left corner, and find `Download` on the menu that appears.\n",
    "\n",
    "A summary of the practical will be available online after the end of the practical class, but don't rely on this, use the demonstrators! Some of the tasks are deliberately designed to require discussions with other students and the demonstrators.\n",
    "\n",
    "## 1. Retrieving and plotting bathymetry data using pyGMT\n",
    "There are multiple ways of interacting with these datasets but we will use a package called pyGMT, which is a python interface to the GMT ([Generic Mapping Tools](https://www.generic-mapping-tools.org/)) software. GMT is widely used in Earth and Marine Sciences. You can read more about the bathymetry data [here](https://www.gmrt.org/).\n",
    "\n",
    "First we must import the `pygmt` package so the notebook has access to its code and mapping know-how:"
   ]
  },
  {
   "cell_type": "code",
   "execution_count": null,
   "id": "5d8cf79a-cff8-49dd-8bfc-00c175c21c00",
   "metadata": {},
   "outputs": [],
   "source": [
    "import pygmt"
   ]
  },
  {
   "cell_type": "markdown",
   "id": "dcf2c60f-8ec5-4cf6-a163-cdfb41eccae4",
   "metadata": {},
   "source": [
    "Now we will extract some of the data GMT is packaged with and assign it to variables so that we can use it more conveniently.\n",
    "\n",
    "The first dataset is a grid of altitude/bathymetry covering the whole planet"
   ]
  },
  {
   "cell_type": "code",
   "execution_count": null,
   "id": "5bef5ea3-411d-4297-99c8-7305534908ef",
   "metadata": {},
   "outputs": [],
   "source": [
    "grid = pygmt.datasets.load_earth_relief()\n",
    "grid"
   ]
  },
  {
   "cell_type": "markdown",
   "id": "c94ba0a2-50c3-472f-a9dd-54f24367b19a",
   "metadata": {},
   "source": [
    "The second dataset records the location of spreading ridges:"
   ]
  },
  {
   "cell_type": "code",
   "execution_count": null,
   "id": "fed2f9bb-3a85-4af1-b4eb-db02a90c1844",
   "metadata": {},
   "outputs": [],
   "source": [
    "points = pygmt.datasets.load_sample_data(name='ocean_ridge_points')\n",
    "points"
   ]
  },
  {
   "cell_type": "markdown",
   "id": "ddaf9503-57c2-42ff-87cf-05bd8c0ff419",
   "metadata": {},
   "source": [
    "Now we can combine both of these datasets to extract the bathymetry along the ridge axes:"
   ]
  },
  {
   "cell_type": "code",
   "execution_count": null,
   "id": "982c6d0c-5d21-4809-b83c-b0f4d23976ac",
   "metadata": {},
   "outputs": [],
   "source": [
    "track = pygmt.grdtrack(points=points, grid=grid, newcolname=\"bathymetry\") \n",
    "track"
   ]
  },
  {
   "cell_type": "markdown",
   "id": "f60932ed-3eba-4db5-bb2c-3cc5c57b29f0",
   "metadata": {},
   "source": [
    "Let's see what this looks like on a map:"
   ]
  },
  {
   "cell_type": "code",
   "execution_count": null,
   "id": "5c0ad644-e0ef-41d5-9c0d-569af6fca3a6",
   "metadata": {},
   "outputs": [],
   "source": [
    "# Create a GMT figure and store it in variable fig:\n",
    "fig = pygmt.Figure()\n",
    "\n",
    "# Plot the earth relief grid on Cylindrical Stereographic projection\n",
    "fig.basemap(region=\"g\", frame=True, projection=\"Cyl_stere/0/45/15c\") # this sets the projection and the region and the size of the plot (15cm)\n",
    "fig.grdimage(grid=grid, cmap=\"gray\") # the plots up the ocean bathymetry with a boring gray colour scale\n",
    "fig.coast(land=\"#666666\") # Mask land areas\n",
    "\n",
    "# Generate a color map for the bathymetry\n",
    "pygmt.makecpt(cmap='terra', series=[-5000, 5000])\n",
    "\n",
    "# Plot using circles (c) of 0.15 cm, the sampled bathymetry points\n",
    "# Points are colored using elevation values (normalized for visual purposes)\n",
    "fig.plot(\n",
    "    x=track.longitude,\n",
    "    y=track.latitude,\n",
    "    style=\"c0.15c\",\n",
    "    cmap=True, # Use the colormap generated above\n",
    "    fill=track.bathymetry, # Colour according to bathymetry\n",
    ")\n",
    "fig.colorbar(frame=[\"a2500\", \"x+lElevation\", \"y+lm\"])\n",
    "fig.show()"
   ]
  },
  {
   "cell_type": "markdown",
   "id": "0a889c5d-e422-432f-951f-28535b4a8588",
   "metadata": {},
   "source": [
    "You should visit the [pygmt](https://www.pygmt.org/latest/) manual pages and look at the information about [projections](https://www.pygmt.org/latest/projections/index.html) and [setting the region](https://www.pygmt.org/latest/tutorials/regions.html) to get a quick feel for what the `projection` and `region` arguments mean. Please ask if this does not make sense. \n",
    "\n",
    "Most of the plots we make in these practicals (and probably when you use python to make plots in general) uses a library called **matplotlib**. Unfortunately, pyGMT works quite differently to matplotlib, and (in my opinion) is far less intuitive than matplotlib. It does produce much higher quality maps and provides us with convenient access to bathymetry datasets, so it is worth the extra hassle!"
   ]
  },
  {
   "cell_type": "markdown",
   "id": "f9610c8b-6028-4d58-ba49-77dce10ae07c",
   "metadata": {},
   "source": [
    "## 2. Extract and plot chemical data for oceanic basalts from PETDB\n",
    "\n",
    "In the practical folder is a spreadsheet containing a large compilation of chemical data collected from rocks at present-day spreading ridges. The spreadsheet was downloaded from the [PETDB](https://www.earthchem.org/petdb) website. Try running a search for some part of the Earth, and have a look at the data that is returned.\n",
    "\n",
    "### Q2.1: What categories of rocks in the database are likely to be the most and least useful for understanding magmatic processes? Ask a demonstrator if you're not sure where to find this information."
   ]
  },
  {
   "cell_type": "markdown",
   "id": "331cf78e-8097-487b-8882-996222d1e741",
   "metadata": {},
   "source": [
    "*Your answer here...*"
   ]
  },
  {
   "cell_type": "markdown",
   "id": "8ab0891e-c21d-4070-845f-fa85e7648ddc",
   "metadata": {},
   "source": [
    "The **pandas** python package provides a toolkit for importing and manipulating large datasets:"
   ]
  },
  {
   "cell_type": "code",
   "execution_count": null,
   "id": "438eea30-7787-4480-bbf2-2ebdb29c0fb7",
   "metadata": {},
   "outputs": [],
   "source": [
    "import pandas as pd"
   ]
  },
  {
   "cell_type": "markdown",
   "id": "6e9e3745-d119-4473-af51-9f511ba5e6c8",
   "metadata": {},
   "source": [
    "Adding `as pd` after the import command means that we can access all the functions using the name `pd`, saving us from typing out `pandas` each time!\n",
    "\n",
    "We can use pandas to read in an Excel file (telling it to skip the first 5 rows which hold a title and some information from PETDB):"
   ]
  },
  {
   "cell_type": "code",
   "execution_count": null,
   "id": "129f3c1d-a7a5-4405-afa6-ab1fb3ca5623",
   "metadata": {},
   "outputs": [],
   "source": [
    "petdb = pd.read_excel(\"spreading_ridge_rocks.xlsx\", header=5)"
   ]
  },
  {
   "cell_type": "markdown",
   "id": "44d68685-c1d1-4186-9c5a-deac6f4eb19a",
   "metadata": {},
   "source": [
    "It's always a good idea to check the data import has worked correctly, so we can look at the very top of the table:"
   ]
  },
  {
   "cell_type": "code",
   "execution_count": null,
   "id": "56eb57a2-c41d-4dbf-9714-101cdf75c148",
   "metadata": {},
   "outputs": [],
   "source": [
    "petdb.head()"
   ]
  },
  {
   "cell_type": "markdown",
   "id": "e06ae098-d9d9-4aab-a803-51354e7b7827",
   "metadata": {},
   "source": [
    "While this gives us a convenient view, it skips some of the columns. To see all of the columns that exist in the table:"
   ]
  },
  {
   "cell_type": "code",
   "execution_count": null,
   "id": "fb2a4124-4332-4189-92f8-f4702ad9c31b",
   "metadata": {},
   "outputs": [],
   "source": [
    "petdb.columns"
   ]
  },
  {
   "cell_type": "markdown",
   "id": "475d14cb-3413-4326-bb63-e055e8e9340a",
   "metadata": {},
   "source": [
    "Importantly for us, we have the latitude, longitude, and the oxide composition (in wt%).\n",
    "\n",
    "### Q2.2: How have the columns FE2O3, FE2O3T, FEO, and FEOT been populated in the spreadsheet, and what is their meaning?"
   ]
  },
  {
   "cell_type": "markdown",
   "id": "8ba1a001-779d-45fe-856d-ea1d40b1fd41",
   "metadata": {},
   "source": [
    "*Your answer here...*"
   ]
  },
  {
   "cell_type": "markdown",
   "id": "5c80eac7-9aff-410c-8449-9910ea5bee76",
   "metadata": {},
   "source": [
    "To plot the data in this part of the practical we will use matplotlib, which is conventially imported like this:"
   ]
  },
  {
   "cell_type": "code",
   "execution_count": null,
   "id": "c24b1a80-a893-47d9-b7a5-e001ac222299",
   "metadata": {},
   "outputs": [],
   "source": [
    "import matplotlib.pyplot as plt"
   ]
  },
  {
   "cell_type": "markdown",
   "id": "838648b5-0853-49c9-80fc-0f210263847e",
   "metadata": {},
   "source": [
    "We can plot the whole dataset at once, which will allow us to check data quality as well as get an overview of it. Here is an example of one plot using matplotlib, with a little bit of customisation:"
   ]
  },
  {
   "cell_type": "code",
   "execution_count": null,
   "id": "710df6c3-0e14-4f97-bfe1-bcee84368271",
   "metadata": {},
   "outputs": [],
   "source": [
    "fig, ax = plt.subplots(dpi=100) # Make a figure, and put a set of axes on it, set the display resolution as 350 DPI.\n",
    "\n",
    "# Add some scatter points to the axis\n",
    "ax.scatter(petdb.MGO, petdb.NA2O)\n",
    "\n",
    "# Set the axis labels (notice how you make a subscript appear):\n",
    "ax.set_xlabel('MgO (wt%)')\n",
    "ax.set_ylabel('Na$_2$O (wt%)')\n",
    "\n",
    "# Display the plot\n",
    "plt.show()"
   ]
  },
  {
   "cell_type": "markdown",
   "id": "874ea165-f709-4c7f-82fe-542dab0bb401",
   "metadata": {},
   "source": [
    "The things you can do to customise how matplotlib displays a plot are virtually endless. Have a look at the [matplotlib examples gallery](https://matplotlib.org/stable/gallery/index) to get an idea for this.\n",
    "\n",
    "### Q2.3: Do you notice any issues with the data?\n",
    "\n",
    "*You might want to change the plot settings to zoom into parts of the dataset. You can do this with the lines `ax.set_xlim(..., ...)` and `ax.set_ylim(..., ...)`.*"
   ]
  },
  {
   "cell_type": "markdown",
   "id": "d4054f29-cdbd-4101-9943-1f36ff81c61f",
   "metadata": {},
   "source": [
    "*Your answer here...*"
   ]
  },
  {
   "cell_type": "markdown",
   "id": "be5492dd-e3f5-4a26-9dfb-5e240124136c",
   "metadata": {},
   "source": [
    "We should bear these issues in mind when we start using the dataset. They might be things we can ignore, or we might want to filter the data before we use it.\n",
    "\n",
    "### Q2.4: Is there any pattern you notice in the global dataset when MgO is plotted against Na$_2$O?"
   ]
  },
  {
   "cell_type": "markdown",
   "id": "d9f416fe-316c-43c1-871b-517c76e57658",
   "metadata": {},
   "source": [
    "*Your answer here...*"
   ]
  },
  {
   "cell_type": "markdown",
   "id": "9b4452a1-b627-4f18-8d2d-6e50dfb04641",
   "metadata": {
    "tags": []
   },
   "source": [
    "### Q2.5: Produce versions of the plot coloured for longitude and latitude\n",
    "\n",
    "*To add a colour scale to the points you can use the argument `c=...` where you enter the sequence of data in place of \"...\". Try working out how to do this from the code above, and ask a demonstrator if you get stuck.*"
   ]
  },
  {
   "cell_type": "code",
   "execution_count": null,
   "id": "7f09275d-a20d-4c1e-b348-28e485b7f2fe",
   "metadata": {},
   "outputs": [],
   "source": [
    "# YOUR CODE HERE\n"
   ]
  },
  {
   "cell_type": "markdown",
   "id": "a3dd105b-bd90-4a4f-af53-58ec88d822e0",
   "metadata": {},
   "source": [
    "Though its tricky to pick out all the data on these plots, you should notice that there is some systematic variation between where the data sits in Na$_2$O vs MgO and its location.\n",
    "\n",
    "### Q2.6: Perhaps a better way of viewing it is to colour code the symbols on a map. Repurpose the code that produced the map above to make such a map.\n",
    "\n",
    "*The colormap used above is great for plotting topography and bathymetry, but not so great for other variables. Find a better one by using the [GMT colour scale reference](https://docs.generic-mapping-tools.org/latest/cookbook/cpts.html#built-in-color-palette-tables-cpt)*"
   ]
  },
  {
   "cell_type": "code",
   "execution_count": null,
   "id": "16287c4b-c4c4-451f-94c3-d538ac863845",
   "metadata": {},
   "outputs": [],
   "source": [
    "# YOUR CODE HERE"
   ]
  },
  {
   "cell_type": "markdown",
   "id": "469a3e24-c22b-4393-8a2a-4716af0160c9",
   "metadata": {},
   "source": [
    "### Q2.7 Is there any coherence between Na<sub>2</sub>O content and bathymetry? Any noteable extremes? Why?"
   ]
  },
  {
   "cell_type": "markdown",
   "id": "1f295f0b-8fde-4819-9d4e-25ff0c4effc5",
   "metadata": {},
   "source": [
    "*Your answer here...*"
   ]
  },
  {
   "cell_type": "markdown",
   "id": "ce64d96f-441f-40fa-ab8b-b23782055bb0",
   "metadata": {},
   "source": [
    "## 3. Controls on the Na$_2$O concentration in MORB\n",
    "\n",
    "You should have found some systematic pattern between Na<sub>2</sub>O and bathymetry. If you didn't, speak to a demonstrator. This section will explore this in a bit more detail and in a more rigorous fashion.\n",
    "\n",
    "These relationships between the major element composition of MORB and geophysical indicators of the extent of melting (such as crustal thickness or depth of seafloor at the spreading ridge axis) were used by Charlie Langmuir and co-workers to argue for the presence of a global array in MORB composition that is controlled by mantle properties (e.g. [Klein & Langmuir, JGR, 1987](https://agupubs.onlinelibrary.wiley.com/doi/epdf/10.1029/JB092iB08p08089)).\n",
    "\n",
    "In order to isolate chemical variations associated with mantle, rather than crustal, processes these authors devised a chemical property known as Na<sub>8</sub>. Take a look at their Figure 1a and the surrounding text to see how this property is defined and used. "
   ]
  },
  {
   "cell_type": "markdown",
   "id": "3bad9ef0-ae08-4886-8db4-5498e815d15c",
   "metadata": {},
   "source": [
    "### Q3.1: Briefly describe why comparison of Na<sub>8</sub> between different parts of the spreading ridge system should provide a clearer picture of mantle melting variations than the use of Na<sub>2</sub>O from above."
   ]
  },
  {
   "cell_type": "markdown",
   "id": "adb5607d-4361-4b59-abfe-6d74d423d871",
   "metadata": {},
   "source": [
    "*Your answer here...*"
   ]
  },
  {
   "cell_type": "markdown",
   "id": "415f20bc-46c9-4976-aed6-35d1f0ba63a3",
   "metadata": {},
   "source": [
    "### Q3.2: Why is it better to average over rift segments rather than using individual rock compositions and the bathymetry at the point they were collected?"
   ]
  },
  {
   "cell_type": "markdown",
   "id": "c6faeb7a-9100-4308-a5d9-26789053eee7",
   "metadata": {},
   "source": [
    "*Your answer here...*"
   ]
  },
  {
   "cell_type": "markdown",
   "id": "9e12d02f-ced2-4c10-844a-77906f442a83",
   "metadata": {},
   "source": [
    "In the rest of the practical we will use the up-to-date datasets we imported above to produce a new version of the Na<sub>8</sub> -- bathymetry array. I will demonstrate how we might do this for one segment first...\n",
    "\n",
    "To start with we will look at the Reykjanes Ridge, just to the south of Iceland. We will use a version of the plots above (combined with some data filtering) to extract representative values for the bathymetry and Na<sub>8</sub>. \n",
    "\n",
    "First, we can plot a map of the bathymetry for this segment. Notice we can use a higher resolution version of the bathymetry grid. To see the range of resolutions that GMT can call on, look at [the documentation page here](https://docs.generic-mapping-tools.org/6.0/datasets/earth_relief.html). We will also plot the locations of the rock samples in the database for the segment. To do this we must filter the database by location:"
   ]
  },
  {
   "cell_type": "code",
   "execution_count": null,
   "id": "31c45ec9-8c91-43dc-a8fe-20e6eaa16866",
   "metadata": {},
   "outputs": [],
   "source": [
    "## In PetDB, longitude goes from -180 to +180.  \n",
    "petsam = petdb[(petdb.LONGITUDE > -26.5) & (petdb.LONGITUDE < -24.5) & (petdb.LATITUDE > 62.) & (petdb.LATITUDE < 63.)]"
   ]
  },
  {
   "cell_type": "code",
   "execution_count": null,
   "id": "1dd0b592-b99b-42dd-aaf9-6cc601ecceaf",
   "metadata": {},
   "outputs": [],
   "source": [
    "## first of all, make another data grid using a subset of the global data. \n",
    "## The region defines the longitude and latitude bounds in the order WESN\n",
    "## The resolution is 01m - which is 1 arcminute grid spacing. This should be sufficient \n",
    "grid = pygmt.datasets.load_earth_relief(resolution=\"01m\", region=[-26.5, -24.5, 62, 63])\n",
    "\n",
    "\n",
    "\n",
    "fig = pygmt.Figure()\n",
    "fig.grdimage(grid=grid, projection=\"M15c\", frame=\"a\", cmap=\"haxby\") # haxby is a colorscale that is OK for oceans\n",
    "fig.grdcontour(grid=grid) # plot up contours\n",
    "fig.colorbar(frame=[\"a1000\", \"x+lElevation\", \"y+lm\"])\n",
    "pygmt.makecpt(cmap=\"viridis\", series=[1., 3.], background = \"i\") # color scale for Na2O - change series limits\n",
    "# Plot using circles (c) of 0.5 cm, the sampled bathymetry points\n",
    "\n",
    "fig.plot(\n",
    "    x=petsam.LONGITUDE,\n",
    "    y=petsam.LATITUDE,\n",
    "    style=\"c0.5c\",\n",
    "    pen=\"white\",\n",
    "    cmap=True,\n",
    "    fill=petsam.NA2O, # fill circle according color-scale\n",
    ")\n",
    "\n",
    "\n",
    "fig.colorbar(frame=[\"a1.0\", \"x+lNa2O\", \"y+lwt%\"],position=\"JBC+o0c/4c\")\n",
    "fig.show()\n"
   ]
  },
  {
   "cell_type": "markdown",
   "id": "7ce4c90e-8827-467c-8a71-19118e264dd6",
   "metadata": {},
   "source": [
    "So, this has generated a contoured and coloured bathymetry chart of the region of interest, along with the position of available basalt samples, these colour-coded by their Na<sub>2</sub>O contents. You can put the map in context by comparing to a global plot from GMT, the [GMRT website](https://www.gmrt.org/) or even Google Earth. \n"
   ]
  },
  {
   "cell_type": "markdown",
   "id": "92153cb6-6369-484c-b806-ab519c79c8f6",
   "metadata": {},
   "source": [
    "Now we need to estimate Na<sub>8</sub> for the segment, which we could also by eye from a plot:"
   ]
  },
  {
   "cell_type": "code",
   "execution_count": null,
   "id": "47034d52-f550-4689-88b8-fd2d821a19e9",
   "metadata": {},
   "outputs": [],
   "source": [
    "f, a = plt.subplots()\n",
    "\n",
    "a.scatter(petsam.MGO, petsam.NA2O, alpha=0.25, s=70)\n",
    "\n",
    "a.set_xlabel('MgO (wt%)')\n",
    "a.set_ylabel('Na$_2$O (wt%')\n",
    "\n",
    "plt.show()"
   ]
  },
  {
   "cell_type": "markdown",
   "id": "314ce729-93e9-4626-9f36-405ad2ed5db8",
   "metadata": {},
   "source": [
    "Notice on the plot above that each symbol is slightly transparent. I did this to see how dense the data is- there are many points overlapping with each other in a big cluster.\n",
    "\n",
    "### Q3.3: Estimate (by eye) a value for Na<sub>8</sub> for this data."
   ]
  },
  {
   "cell_type": "markdown",
   "id": "e13d4cd9-99cf-46ea-ab74-90b894f8a451",
   "metadata": {},
   "source": [
    "*Your answer here...*"
   ]
  },
  {
   "cell_type": "markdown",
   "id": "fdd0c2f7-a332-438b-a1e3-dce3afb1d1ad",
   "metadata": {},
   "source": [
    "We could also do this a bit more rigorously by regressing the data to MgO = 8 wt%. A really simple way to do this is to run a linear regression over the whole dataset. Of course, someone has already written code that can do this in python, and made it available in a python package SciPy, which we can import here:"
   ]
  },
  {
   "cell_type": "code",
   "execution_count": null,
   "id": "39db6a07-df20-4669-b816-d5612fb42a20",
   "metadata": {},
   "outputs": [],
   "source": [
    "from scipy.stats import linregress\n",
    "import numpy as np"
   ]
  },
  {
   "cell_type": "markdown",
   "id": "f8cc0afe-3211-41bb-8597-58d01ac7c163",
   "metadata": {},
   "source": [
    "In this case I import a specific function from the library, rather than the whole library (as we did for pandas, for example). I also imported the library numpy, which provides lots of useful mathematical operations, and lets us define matrices etc.\n",
    "\n",
    "We can look up how to use the linregress function with a handy Jupyter Lab trick:"
   ]
  },
  {
   "cell_type": "code",
   "execution_count": null,
   "id": "7f10100a-790a-4d81-b02c-c9106e8f9f16",
   "metadata": {
    "tags": []
   },
   "outputs": [],
   "source": [
    "linregress?"
   ]
  },
  {
   "cell_type": "markdown",
   "id": "2a8d04a8-a009-4932-a3cd-61b6185542a8",
   "metadata": {},
   "source": [
    "Let's try running it:"
   ]
  },
  {
   "cell_type": "code",
   "execution_count": null,
   "id": "368a3212-d613-4110-8122-c4d6ece1f113",
   "metadata": {},
   "outputs": [],
   "source": [
    "linregress(petsam.MGO, petsam.NA2O)"
   ]
  },
  {
   "cell_type": "markdown",
   "id": "8044ed21-a0ab-4acb-9c9e-ede7a39ec386",
   "metadata": {},
   "source": [
    "Damn! It didn't work. It turns out this is because some of the samples in the dataset have empty entried for some of the oxides. We could have filtered this out when we selected the data earlier, or we can do this when we call the function:"
   ]
  },
  {
   "cell_type": "code",
   "execution_count": null,
   "id": "53b2e23e-cb94-473d-9664-866fa16ef993",
   "metadata": {},
   "outputs": [],
   "source": [
    "linreg_result = linregress(petsam.MGO[(petsam.MGO>0)&(petsam.NA2O>0)], petsam.NA2O[(petsam.MGO>0)&(petsam.NA2O>0)])\n",
    "linreg_result"
   ]
  },
  {
   "cell_type": "markdown",
   "id": "4f7f82f5-6d90-4d65-bb54-00c1bfc1c07f",
   "metadata": {},
   "source": [
    "We can see what this regression looks like by adding it to the plot below:"
   ]
  },
  {
   "cell_type": "code",
   "execution_count": null,
   "id": "0e70820c-59ee-4df3-add0-f1d6ce704f8f",
   "metadata": {},
   "outputs": [],
   "source": [
    "f, a = plt.subplots()\n",
    "\n",
    "a.scatter(petsam.MGO, petsam.NA2O, alpha=0.25, s=70)\n",
    "\n",
    "x = np.array([5, 9])\n",
    "y = linreg_result[0] * x + linreg_result[1]\n",
    "\n",
    "a.plot(x, y, c='k')\n",
    "\n",
    "a.set_xlabel('MgO (wt%)')\n",
    "a.set_ylabel('Na$_2$O (wt%')\n",
    "\n",
    "plt.show()"
   ]
  },
  {
   "cell_type": "markdown",
   "id": "a2c5b24f-22f2-454c-b09b-74d3129461e0",
   "metadata": {},
   "source": [
    "### Q3.4: How does this compare with the gradient of the lines used by Klein & Langmuir? Do you think this is a reliable way of estimating Na<sub>8</sub>? "
   ]
  },
  {
   "cell_type": "markdown",
   "id": "3f9713f1-c243-4924-a4dd-895b49681a10",
   "metadata": {},
   "source": [
    "*Your answer here...*"
   ]
  },
  {
   "cell_type": "markdown",
   "id": "909eace4-957e-437b-b9b7-39aaf31e7b8b",
   "metadata": {},
   "source": [
    "The table below lists some spreading centres which will help us build a global axial depth - Na<sub>8</sub> array. How you populate this is **up to you**, but I suggest you work together as a class, each taking one segment (or work in pairs).\n",
    "\n",
    "The Reykjanes peninsula has already been filled in with my favoured values, but maybe you disagree? If you disagree by much, speak to a demonstrator.\n",
    "\n",
    "\n",
    "| Segment Name |\tLongitude W |Longitude E | Latitude S | Latitude N | Crustal Thickness (km)| Axial Depth (m) | Na<sub>8</sub> |\n",
    "|  :-:         | :-:            | :-:        | :-:        | :-:        | :-:                   | :-: | :-: |\n",
    "| Reykjanes Example | -26.5 | -24.5 | 62.0 | 63.0 | 12 | 700 | 1.9 | \n",
    "| EPRR10 |\t-104.4 |\t-104.2 |\t9.1 | \t10.1\t| 6 | ? | ? |\n",
    "| JUAN8 |\t-129.5\t| -128.9\t| 46.54\t| 47.5\t| 7 | ? | ? |\n",
    "| GALA6\t| -97.8\t| -96.5\t| 2.1\t| 2.2\t| 5.5 |? | ? |\n",
    "| GALA11 |\t-92.1 |\t-90.8 |\t1.85 |\t2.15 |\t8 |? | ? |\n",
    "| MARR23 |\t-18.4 |\t-17.6 |\t67.9 |\t68.9 |\t9.5 |? | ? |\n",
    "| MARR24 |\t-18.8 |\t-18.5 |\t66.9 |\t67.9 |\t12 |? | ? |\n",
    "| MARR86 |\t-32.4 |\t-32.2 |\t37 |\t37.5 |\t6 |? | ? |\n",
    "| SWIR67SWIR66 |\t68 |\t69.9 |\t-26.4 |\t-25.6 |\t3.5 |? | ? |\n",
    "| GAKK15 |\t0 |\t2.8 |\t84.1 |\t84.5 |\t4 |? | ? |\n",
    "| SEIR40 |\t100.2 |\t101.4 |\t-47.7 |\t-47.2 |\t6 |? | ? |\n",
    "| SEIR56SEIR57 | 116.5 | 117.1 | -49.4 | -49.2\t|4 |? | ? |\n",
    "\n",
    "I've provided code to produce a plot with the values, once you have entered them here:"
   ]
  },
  {
   "cell_type": "code",
   "execution_count": null,
   "id": "8e492ae3-9c2e-4727-977b-0b44aa1cfdaa",
   "metadata": {},
   "outputs": [],
   "source": [
    "axial_depths = [700.0, ]\n",
    "Na8 = [1.9, ]\n",
    "\n",
    "\n",
    "fig, ax = plt.subplots(dpi=100)\n",
    "\n",
    "ax.scatter(axial_depths, Na8, c='C2', s=100)\n",
    "\n",
    "ax.set_xlabel('Axial depth (m)')\n",
    "ax.set_ylabel('Na$_8$')\n",
    "\n",
    "plt.show()"
   ]
  },
  {
   "cell_type": "code",
   "execution_count": null,
   "id": "601a245c-c2f9-4325-a979-374e7b88a5ac",
   "metadata": {},
   "outputs": [],
   "source": []
  },
  {
   "cell_type": "code",
   "execution_count": null,
   "id": "098ca6a2-0763-4705-ab4d-29bde196b81b",
   "metadata": {},
   "outputs": [],
   "source": []
  },
  {
   "cell_type": "markdown",
   "id": "3511e500-a728-424d-bc62-29331bdb9e86",
   "metadata": {},
   "source": [
    "## 4. Modelling the global array\n",
    "\n",
    "It has been suggested that the global array you have just obtained a version of is controlled by variations in mantle temperature. By constructing a simple model, we can test whether this is a feasible explanation.\n",
    "\n",
    "We will add a line to the plot above where each point on the line represents a different value of $T_p$.\n",
    "\n",
    "The model will need to take mantle potential temperature $T_p$ as an input, and estimate the Na>sub>2</sub>O content of the primary melt and the axial depth of the ridge. In the lectures we have covered the equations needed to do this. The first step is to calculate the melt fraction generated for a given $T_p$ at a spreading centre. There are many ways of doing this (including reading numbers off the figures from the lecture!), but there is a convenient python package that can help us:"
   ]
  },
  {
   "cell_type": "code",
   "execution_count": null,
   "id": "5322f09a-aa5c-4339-9d88-342a2eb004f8",
   "metadata": {},
   "outputs": [],
   "source": [
    "import pyMelt as m"
   ]
  },
  {
   "cell_type": "markdown",
   "id": "a889b9f8-65ec-40c2-902b-39a87036455c",
   "metadata": {},
   "source": [
    "The way the [pyMelt](https://pymelt.readthedocs.io/en/latest/) package is structured requires us to define a mantle lithology and build a mantle object from it:"
   ]
  },
  {
   "cell_type": "code",
   "execution_count": null,
   "id": "4efa328c-e70f-456c-9db7-1b2a3f3ee3e6",
   "metadata": {},
   "outputs": [],
   "source": [
    "# Only need to run this once!\n",
    "lz = m.lithologies.matthews.klb1()\n",
    "mantle = m.mantle([lz], [1.0], ['lz'])"
   ]
  },
  {
   "cell_type": "markdown",
   "id": "21a54e8c-dc76-487a-8ce2-4d48cfb51d7f",
   "metadata": {},
   "source": [
    "This tells pyMelt to use a set of equations that paramterise KLB1 lherzolite melting published by [Matthews et al. (2021)](https://doi.org/10.1029/2020GC009157). Then we can perform an adiabatic melting calculation at a given $T_p$ (in ˚C), and produce a plot to visualise the results:"
   ]
  },
  {
   "cell_type": "code",
   "execution_count": null,
   "id": "d94a1816-ed18-40dd-b5a7-8d62cf31d73b",
   "metadata": {},
   "outputs": [],
   "source": [
    "# This line does the calculation:\n",
    "column = mantle.adiabaticMelt(1360.0, Pstart=4.0)\n",
    "\n",
    "# This line makes a nice plot\n",
    "f, a = column.plot()"
   ]
  },
  {
   "cell_type": "markdown",
   "id": "a57f108a-adbb-4c74-941a-4851c4227f45",
   "metadata": {},
   "source": [
    "### Q4.1: Find in your lecture notes the equation for obtaining crustal thickness from the information plotted above. Can you make a rough estimate of what it should be?"
   ]
  },
  {
   "cell_type": "markdown",
   "id": "50a0dba3-6a80-4389-83d2-4429ece21328",
   "metadata": {},
   "source": [
    "*Your answer here...*"
   ]
  },
  {
   "cell_type": "code",
   "execution_count": null,
   "id": "19797cae-7d4f-4993-a0ed-5dad722379d3",
   "metadata": {},
   "outputs": [],
   "source": [
    "# You might want to write some python code to help!"
   ]
  },
  {
   "cell_type": "markdown",
   "id": "427489cb-6330-4f2e-814b-b17fb96859ee",
   "metadata": {},
   "source": [
    "We can have pyMelt do the calculation too, but first we must tell it to creating a spreading centre:"
   ]
  },
  {
   "cell_type": "code",
   "execution_count": null,
   "id": "531cdb6c-29c4-4980-9015-262ba92c9130",
   "metadata": {},
   "outputs": [],
   "source": [
    "mor = m.geosettings.spreadingCentre(column)\n",
    "ref_tc = mor.tc\n",
    "ref_tc"
   ]
  },
  {
   "cell_type": "markdown",
   "id": "f0e4b69d-0d44-4692-adb7-5d83638d2935",
   "metadata": {},
   "source": [
    "### Q4.2: Does the calculated value differ from your own answer? Why?"
   ]
  },
  {
   "cell_type": "markdown",
   "id": "a3e00453-3a12-423b-b931-3ff0c16b6e0b",
   "metadata": {},
   "source": [
    "*Your answer here...*"
   ]
  },
  {
   "cell_type": "markdown",
   "id": "830e482b-e9ab-416f-9b41-d4fa17171c0e",
   "metadata": {},
   "source": [
    "We expect that mid-ocean ridges are close to isostatic equilibrium, so variations in axial depth should be driven by density differences in the rock beneath them. There will be two main components to this: i) variations in crustal thickness and ii) variations in mantle temperature. To make the calculations easier we will ignore the contribution of mantle temperature and focus on crustal thickness.\n",
    "\n",
    "### Q4.3: Derive an expression linking a change in ridge bathymetry to a change in crustal thickness.\n",
    "*Assume uniform densities (values below) for the crust, ocean, and mantle.*\n",
    "| Material | Density (kg m<sup>-3</sup>) |\n",
    "|---|---|\n",
    "| Water | 1000 |\n",
    "| Crust | 3000 |\n",
    "| Convecting Mantle | 3300 |"
   ]
  },
  {
   "cell_type": "markdown",
   "id": "d90b4bf1-2d43-48a1-8edc-dacc0e130953",
   "metadata": {},
   "source": [
    "*Your answer here...*"
   ]
  },
  {
   "cell_type": "markdown",
   "id": "d906467c-5d70-4192-8f39-0c282accbae3",
   "metadata": {},
   "source": [
    "Using pyMelt we can calculate the thickness of oceanic crust as a function of mantle $T_p$, and therefore the change in bathymetry from a reference value. We will use a $T_p$ of 1360˚C as the reference case (for which we calculated the crustal thickness above).\n",
    "\n",
    "### Q4.4: By modifying the code below, create a loop that calculates the crustal thickness for a range of $T_p$:"
   ]
  },
  {
   "cell_type": "code",
   "execution_count": null,
   "id": "2bf74758-627b-448d-8b73-d570f8d0aa34",
   "metadata": {},
   "outputs": [],
   "source": [
    "# Create an empty list to store the answers in\n",
    "tcs = []\n",
    "\n",
    "# This is for Q4.6:\n",
    "Fmax = []\n",
    "\n",
    "for Tp in np.linspace(1300, 1550, 6): # Run the code below for 6 values of Tp spaced evenly between 1300 and 1550. Increase this is you want!\n",
    "    \n",
    "    result = 0.0 # Change this bit!\n",
    "    \n",
    "\n",
    "    tcs.append(result)\n",
    "    \n",
    "    # Code for Q4.6 can go here:\n",
    "\n",
    "\n",
    "print(tcs)"
   ]
  },
  {
   "cell_type": "markdown",
   "id": "e14ed25b-9e0c-4aba-b464-e50d1ca2b6e1",
   "metadata": {},
   "source": [
    "We can convert this to a numpy array to make calculations easier:"
   ]
  },
  {
   "cell_type": "code",
   "execution_count": null,
   "id": "dafeb485-2623-4b53-b4f7-7cde9d16c240",
   "metadata": {},
   "outputs": [],
   "source": [
    "tcs = np.array(tcs)\n",
    "Fmax = np.array(Fmax)"
   ]
  },
  {
   "cell_type": "markdown",
   "id": "208dbaf1-40bb-4042-b5a2-e085d40c80a4",
   "metadata": {},
   "source": [
    "### Q4.5: Now use the expression you derived above to calculate the bathymetry relative to the $T_p$ = 1360˚C case:"
   ]
  },
  {
   "cell_type": "code",
   "execution_count": null,
   "id": "99ab1ffa-acf6-40e2-bacd-3f998ae4adcf",
   "metadata": {},
   "outputs": [],
   "source": [
    "# Your code here...\n"
   ]
  },
  {
   "cell_type": "markdown",
   "id": "648e4f8e-2578-4d33-b708-c3b65d27838b",
   "metadata": {},
   "source": [
    "We must now calculate the primary Na<sub>2</sub>O content of the magmas associated with each $T_p$. \n",
    "\n",
    "If we use a highly simplified melting model, the Na<sub>2</sub>O content of the mantle melts can be calculated from the following expression for accumulated fractional melts which was developed by [Plank et al., 1995](https://agupubs.onlinelibrary.wiley.com/doi/abs/10.1029/95JB01148), a paper which is worth a look.\n",
    "\n",
    "$$\n",
    "C_L = \\frac{2C_0}{X_{max}} \\left[ 1 + \\frac{D \\left[ (1 - X_{max})^{((1/D) - 1))} -1 \\right]}{X_{max}(D+1)} \\right]\n",
    "$$\n",
    "\n",
    "In this case, $C_L$ is the liquid composition, $C_0$ is the mantle source composition (you can try 0.3 wt% for Na<sub>2</sub>O and $D$, the partition coefficient during melting (try a constant of 0.01 for Na).\n",
    "\n",
    "You can extract the melt fraction at the top of the melting column (i.e., the maximum melt fraction) from the pyMelt results using:"
   ]
  },
  {
   "cell_type": "code",
   "execution_count": null,
   "id": "f975cc36-ca61-4b69-9525-10b8a08abc76",
   "metadata": {},
   "outputs": [],
   "source": [
    "mor.F.max()"
   ]
  },
  {
   "cell_type": "markdown",
   "id": "dbdcdebd-1769-4c78-8814-39e2a4db2c7b",
   "metadata": {},
   "source": [
    "### Q4.6: Add Fmax into the loop above so you extract Fmax and crustal thickness at the same time. Check Fmax makes sense."
   ]
  },
  {
   "cell_type": "code",
   "execution_count": null,
   "id": "fa823a09-f858-4484-b1f7-e93d1b1edfe3",
   "metadata": {},
   "outputs": [],
   "source": [
    "# Print Fmax here."
   ]
  },
  {
   "cell_type": "markdown",
   "id": "1a0b3bcc-3c67-4f07-9beb-f7079cb0ab16",
   "metadata": {},
   "source": [
    "### Q4.7: Use these values of Fmax to calculate Na<sub>2</sub>O of the magma produced for each $T_p$:"
   ]
  },
  {
   "cell_type": "code",
   "execution_count": null,
   "id": "e9cf40e6-d763-465f-be23-4b562c0f59ff",
   "metadata": {},
   "outputs": [],
   "source": [
    "# Your code here"
   ]
  },
  {
   "cell_type": "markdown",
   "id": "bee35fad-4312-4e15-b5f3-550d6c8bfcce",
   "metadata": {},
   "source": [
    "### Q4.8: Create a version of the global array plot with the model superimposed.\n",
    "\n",
    "*Remember that the bathymetrys calculated are **relative** bathymetrys. You will need to add an offset to it to match the data."
   ]
  },
  {
   "cell_type": "code",
   "execution_count": null,
   "id": "a4c686b3-c940-4980-998d-b23fb0c59e2d",
   "metadata": {},
   "outputs": [],
   "source": [
    "fig, ax = plt.subplots(dpi=100)\n",
    "\n",
    "ax.scatter(axial_depths, Na8, c='C2', s=100)\n",
    "\n",
    "ax.set_xlabel('Axial depth (m)')\n",
    "ax.set_ylabel('Na$_8$')\n",
    "\n",
    "\n",
    "ax.plot(relative_bathymetry*1000 + 3500, Na2O)\n",
    "\n",
    "plt.show()"
   ]
  },
  {
   "cell_type": "markdown",
   "id": "e10f018e-f711-46bc-b0aa-64e73f311250",
   "metadata": {},
   "source": [
    "### Q4.9: What range of $T_p$ is required to explain the global array? What might affect your answer?"
   ]
  },
  {
   "cell_type": "markdown",
   "id": "68d4ed1c-8e08-411b-9365-58dec5101107",
   "metadata": {},
   "source": [
    "*Your answer here...*"
   ]
  },
  {
   "cell_type": "code",
   "execution_count": null,
   "id": "324e8b7b-d70e-4e0a-9ce4-e0a4ef43d173",
   "metadata": {},
   "outputs": [],
   "source": []
  }
 ],
 "metadata": {
  "kernelspec": {
   "display_name": "Python 3 (ipykernel)",
   "language": "python",
   "name": "python3"
  },
  "language_info": {
   "codemirror_mode": {
    "name": "ipython",
    "version": 3
   },
   "file_extension": ".py",
   "mimetype": "text/x-python",
   "name": "python",
   "nbconvert_exporter": "python",
   "pygments_lexer": "ipython3",
   "version": "3.11.1"
  }
 },
 "nbformat": 4,
 "nbformat_minor": 5
}
