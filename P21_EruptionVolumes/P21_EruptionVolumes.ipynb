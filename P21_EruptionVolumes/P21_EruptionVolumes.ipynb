{
 "cells": [
  {
   "cell_type": "markdown",
   "metadata": {},
   "source": [
    "# Part II C3 Petrology  -  Practical 21: Glaciation and Volcanism on Iceland\n",
    "*Simon Matthews (sm905@cam.ac.uk), Lent 2023"
   ]
  },
  {
   "cell_type": "markdown",
   "metadata": {},
   "source": [
    "Iceland has experienced a series of glaciations over the last 3 million years. During the most recent glacial period, which ended about 12 kyr ago, an ice sheet up to 2 km in thickness covered most of the island. The presence of this ice sheet had an important influence on volcanic activity in Iceland. \n",
    "\n",
    "This effect causes clear differences in volcanic morphology between glacial and post-glacial eruptions. The relative ages of individual eruptions can therefore be estimated by inspection of volcanic morphology. Another method which has been used by Icelandic geologists to provide a stratigraphy for postglacial eruptions is known as tephrochronology. This technique relies upon the identification of well characterised tephra layers within the sequence of lava flows. Tephra is material consisting of fragments of volcanic rock of any size expelled from a volcano, but tephrochronology usually relies on ash. When such layers can be confidently associated with organic material of the same age, then it is possible to assign absolute bounds on the ages of eruptions by using <sup>14</sup>C dating. \n",
    "\n",
    "In this practical you will look at how eruptive volumes and lava geochemistry have changed over time (relative to deglaciation).\n",
    "\n",
    "## 1. Ice sheet history and dating eruptions\n",
    "\n",
    "Take a look at the images that will be available in the lab (or look at the powerpoint on Moodle). They relate to the temporal and spatial distribution of ice-thickness, volcanic activity and volcanic morphologies on Iceland.  There is also an interesting video of ice-sheet evolution in a paper by [Patton et al.](http://dx.doi.org/10.1016/j.earscirev.2017.02.001). Then answer the following questions.\n",
    "\n",
    "### Q1.1 If a basaltic eruption were to occur at the present day on Iceland, what factors would control its areal extent? \n",
    "*Take a look at the Google Earth images of Fagradalsfjall 2021-2022 and Holuhraun 2014 if you need inspiration. You could also look at a prediction made of where lavas would flow during the Fagradalsfjall eruption [here](https://www.vedur.is/media/uncategorized/Monitormap_hraunflaedilikan_VI_05032021.png)*"
   ]
  },
  {
   "cell_type": "markdown",
   "metadata": {},
   "source": [
    "*Your answer here...*"
   ]
  },
  {
   "cell_type": "markdown",
   "metadata": {},
   "source": [
    "### Q1.2 What further processes control the areal extent of outcrop of old lava flows?"
   ]
  },
  {
   "cell_type": "markdown",
   "metadata": {},
   "source": [
    "*Your answer here...*"
   ]
  },
  {
   "cell_type": "markdown",
   "metadata": {},
   "source": [
    "### Q1.3 Estimate the relative proportions of the areal coverage of recent (<7 kyr old), early postglacial (7-12 kyr old) and glacial (> 12 kyr) eruptions in the three regions shown on Figure 2 from [Maclennan et al., 2002](https://agupubs.onlinelibrary.wiley.com/doi/full/10.1029/2001GC000282).\n",
    "\n",
    "![Unit Ages](https://agupubs.onlinelibrary.wiley.com/cms/asset/46f63887-f031-4d78-a34e-beaf87673eb5/ggge216-fig-0002.png)"
   ]
  },
  {
   "cell_type": "markdown",
   "metadata": {},
   "source": [
    "*Some key eruptions you will see data from later in the practical: SV = Storaviti, GA: Gæsafjöll, KR: Krafla*"
   ]
  },
  {
   "cell_type": "markdown",
   "metadata": {},
   "source": [
    "*Your answer here...*"
   ]
  },
  {
   "cell_type": "markdown",
   "metadata": {},
   "source": [
    "### Q1.4. What is surprising about this result? Are these results in agreement with a simple model of constant eruption rate through time, with younger flows burying older flows? Have eruption, burial and erosion operated in a steady-state for postglacial times?\n"
   ]
  },
  {
   "cell_type": "markdown",
   "metadata": {},
   "source": [
    "*Your answer here...*"
   ]
  },
  {
   "cell_type": "markdown",
   "metadata": {},
   "source": [
    "## 2. A Database of Eruption Ages, Volumes and Compositions ##\n",
    "\n",
    "With careful examination of the [Geology Map of Iceland](http://jardfraedikort.is/index_enska.html), published estimates of eruption ages (from tephrochronology and geomorphology) and also [high-resolution topographic maps](http://atlas.lmi.is/mapview/?application=DEM) it has been possible to make estimates of the variation in volcanic productivity over the last glacial cycle - see [Eksinchol et al., 2019](https://agupubs.onlinelibrary.wiley.com/doi/full/10.1029/2019GC008222) for a recent effort. \n",
    "\n",
    "Let's import the python packages we need, and then read in a supplementary information file from this paper. "
   ]
  },
  {
   "cell_type": "code",
   "execution_count": null,
   "metadata": {},
   "outputs": [],
   "source": [
    "import pandas as pd\n",
    "import numpy as np\n",
    "import matplotlib.pyplot as plt"
   ]
  },
  {
   "cell_type": "code",
   "execution_count": null,
   "metadata": {
    "scrolled": true
   },
   "outputs": [],
   "source": [
    "erupt_av = pd.read_csv('eksinchol_supp2.csv')\n",
    "erupt_av.head()"
   ]
  },
  {
   "cell_type": "markdown",
   "metadata": {
    "tags": []
   },
   "source": [
    "This file contains an estimate of the age and volume of 124 volcanic eruptions from three well-studied volcanic regions of Iceland. The Longitude and Latitutde show the location of an estimate of the eruptive vent. The column labelled \"Zone\" refers to the volcanic zone in Iceland - see Figure 5 of [Eksinchol et al., 2019](https://agupubs.onlinelibrary.wiley.com/doi/full/10.1029/2019GC008222) for a guide to these locations.\n",
    "\n",
    "![Volcanic Zones](https://agupubs.onlinelibrary.wiley.com/cms/asset/01938292-73c1-452c-84d2-c37e2ac1e534/ggge21894-fig-0005-m.jpg)\n"
   ]
  },
  {
   "cell_type": "markdown",
   "metadata": {},
   "source": [
    "### Q2.1: Why do you think that the eruptions are characteried by a minimum and maximum age constraint, rather than by an single age estimate?"
   ]
  },
  {
   "cell_type": "markdown",
   "metadata": {},
   "source": [
    "*Your answer here...*"
   ]
  },
  {
   "cell_type": "markdown",
   "metadata": {},
   "source": [
    "Now let's focus in on the northern part of the Northern Volcanic Zone of Iceland (NNVZ). \n",
    "\n",
    "### Q2.2: First, filter the dataset to just pick samples from that region \n",
    "*(you can do this in a similar way to the filtering in the last practical)*"
   ]
  },
  {
   "cell_type": "code",
   "execution_count": null,
   "metadata": {
    "scrolled": true
   },
   "outputs": [],
   "source": [
    "# Your code here..."
   ]
  },
  {
   "cell_type": "markdown",
   "metadata": {},
   "source": [
    "The final deglaciation of most of this part of the NNVZ took place about 12 kyr ago. \n",
    "\n",
    "### Q2.3: How do you think that the age bounds on younger eruptions were obtained?"
   ]
  },
  {
   "cell_type": "markdown",
   "metadata": {},
   "source": [
    "*Your answer here...*"
   ]
  },
  {
   "cell_type": "markdown",
   "metadata": {},
   "source": [
    "Here's a figure showing some information about eruption volumes and ages. \n",
    "\n",
    "### Q2.4: Try to establish what is being shown here and provide useful axes and labels in a legend if you can.  "
   ]
  },
  {
   "cell_type": "code",
   "execution_count": null,
   "metadata": {
    "scrolled": true,
    "tags": []
   },
   "outputs": [],
   "source": [
    "fig, ax = plt.subplots()\n",
    "\n",
    "ax.scatter(nnvz['num_min_age(wrt2000AD)'], \n",
    "           nnvz['Volume(km3)'],\n",
    "           marker='s',\n",
    "           c='C1',\n",
    "           label='Label 1'\n",
    "          )\n",
    "\n",
    "ax.scatter(nnvz['num_max_age(wrt2000AD)'], \n",
    "           nnvz['Volume(km3)'],\n",
    "           marker='o',\n",
    "           c='C2',\n",
    "           label='Label 2'\n",
    "          )\n",
    "\n",
    "ax.set_xlabel('X label')\n",
    "ax.set_ylabel('Y label')\n",
    "\n",
    "ax.legend()\n",
    "\n",
    "plt.show()"
   ]
  },
  {
   "cell_type": "markdown",
   "metadata": {},
   "source": [
    "### Q2.5: Use the plot to comment (qualitatively) on how eruption rate has varied over time in the NNVZ."
   ]
  },
  {
   "cell_type": "markdown",
   "metadata": {},
   "source": [
    "*Your answer here...*"
   ]
  },
  {
   "cell_type": "markdown",
   "metadata": {},
   "source": [
    "A plot like this is a little difficult to read. A better way of looking at the data is to plot cumulative eruptive volume over time. Below is some python code to produce such a plot. One line represents the lower bound on age, and one line represents the upper bound on age."
   ]
  },
  {
   "cell_type": "code",
   "execution_count": null,
   "metadata": {},
   "outputs": [],
   "source": [
    "from scipy.stats import cumfreq"
   ]
  },
  {
   "cell_type": "code",
   "execution_count": null,
   "metadata": {},
   "outputs": [],
   "source": [
    "fig, ax = plt.subplots()\n",
    "\n",
    "lower_bound = cumfreq(-nnvz['num_min_age(wrt2000AD)'], weights=nnvz['Volume(km3)'], numbins=200)\n",
    "upper_bound = cumfreq(-nnvz['num_max_age(wrt2000AD)'], weights=nnvz['Volume(km3)'], numbins=200)\n",
    "\n",
    "\n",
    "x_lb = lower_bound.lowerlimit + np.linspace(0, lower_bound.binsize*lower_bound.cumcount.size, lower_bound.cumcount.size)\n",
    "x_ub = upper_bound.lowerlimit + np.linspace(0, upper_bound.binsize*upper_bound.cumcount.size, upper_bound.cumcount.size)\n",
    "\n",
    "\n",
    "ax.plot(x_lb/1000, lower_bound.cumcount, c='C0')\n",
    "ax.plot(x_ub/1000, upper_bound.cumcount, c='C0')\n",
    "\n",
    "ax.set_xlim(-20, 0)\n",
    "ax.set_ylim(0, 50)\n",
    "\n",
    "for i, row in nnvz.iterrows():\n",
    "    if row['Type'] == 'Glacial':\n",
    "        col = 'blue'\n",
    "    elif row['Type'] == 'Finiglacial':\n",
    "        col = 'cyan'\n",
    "    else:\n",
    "        col = 'red'\n",
    "    ax.plot([-row['num_min_age(wrt2000AD)']/1000, -row['num_max_age(wrt2000AD)']/1000],\n",
    "            [ax.get_ylim()[1]*0.9 + np.random.rand()*4]*2,\n",
    "           c=col)\n",
    "\n",
    "ax.set_xlabel('Time (ka)')\n",
    "ax.set_ylabel('Volume (km$^3$)')\n",
    "\n",
    "ax.text(0.95, 0.05, 'NNVZ', transform=ax.transAxes, va='bottom', ha='right', fontweight='bold')\n",
    "\n",
    "plt.show()"
   ]
  },
  {
   "cell_type": "markdown",
   "metadata": {},
   "source": [
    "### Q2.6: What do the horizontal bars at the top of the plot refer to? Ask a demonstrator if you're not sure."
   ]
  },
  {
   "cell_type": "markdown",
   "metadata": {},
   "source": [
    "*Your answer here...*"
   ]
  },
  {
   "cell_type": "markdown",
   "metadata": {},
   "source": [
    "### Q2.6: Use the code above to make similar plots for each of the volcanic zones shown in the map above."
   ]
  },
  {
   "cell_type": "code",
   "execution_count": null,
   "metadata": {},
   "outputs": [],
   "source": []
  },
  {
   "cell_type": "code",
   "execution_count": null,
   "metadata": {},
   "outputs": [],
   "source": []
  },
  {
   "cell_type": "code",
   "execution_count": null,
   "metadata": {},
   "outputs": [],
   "source": []
  },
  {
   "cell_type": "markdown",
   "metadata": {},
   "source": [
    "### Q2.7: How do the eruption rates correspond to the deglaciation cycle? How does it vary across Iceland?"
   ]
  },
  {
   "cell_type": "markdown",
   "metadata": {},
   "source": [
    "*Your answer here...*"
   ]
  },
  {
   "cell_type": "markdown",
   "metadata": {},
   "source": [
    "### Q2.8: Use the plots above to estimate values of the eruption rate for different parts of the deglaciation cycle in the NNVZ"
   ]
  },
  {
   "cell_type": "code",
   "execution_count": null,
   "metadata": {},
   "outputs": [],
   "source": [
    "# You might want to write some code here..."
   ]
  },
  {
   "cell_type": "markdown",
   "metadata": {},
   "source": [
    "*Your answer here...*"
   ]
  },
  {
   "cell_type": "markdown",
   "metadata": {},
   "source": [
    "### Q2.9 What uncertainties does one face when attempting to reconstruct the average eruption rate through time?"
   ]
  },
  {
   "cell_type": "markdown",
   "metadata": {},
   "source": [
    "*Your answer here...*"
   ]
  },
  {
   "cell_type": "markdown",
   "metadata": {},
   "source": [
    "### Q2.10: List possible mechanisms that may account for the observed relationship between deglaciation and eruption rates.\n",
    "*You might want to discuss this with a demonstrator*"
   ]
  },
  {
   "cell_type": "markdown",
   "metadata": {},
   "source": [
    "*Your answer here...*"
   ]
  },
  {
   "cell_type": "markdown",
   "metadata": {},
   "source": [
    "## 3. Magma chamber processes\n",
    "\n",
    "When the confining stresses on the walls of a magma chamber are reduced, it is more likely that the walls of the chamber will fracture. Magma may then escape from the chamber through these fractures towards the surface where an eruption will take place. Therefore, one possible mechanism for varying eruption rates is that mantle melts supplied to the crust during the glacial period are stored in magma chambers and are seldom erupted due to the difficulty in fracturing the chamber walls. However, when the glacial overburden is removed, these stored melts can be erupted to generate the early postglacial burst in volcanic activity. Activity will then return to a steady-state.\n",
    "\n",
    "### Q3.1: In the mechanism described above, which out of glacial, early postglacial and recent eruptions are predicted to have been stored for the greatest length of time in magma chambers?"
   ]
  },
  {
   "cell_type": "markdown",
   "metadata": {},
   "source": [
    "*Your answer here...*"
   ]
  },
  {
   "cell_type": "markdown",
   "metadata": {},
   "source": [
    "It is possible to evaluate the importance of this mechanism in nature by examining the compositions of lava from the three time periods. Crystallisation, assimilation of crustal materials and mixing of mantle melts are all thought to occur in magma chambers in the Icelandic crust.\n",
    "\n",
    "We can import some data with MgO contents of eruptions from the different time periods. The table below is sufficiently small that the whole table will be printed:"
   ]
  },
  {
   "cell_type": "code",
   "execution_count": null,
   "metadata": {
    "scrolled": true
   },
   "outputs": [],
   "source": [
    "majors = pd.read_excel(\"compositions.xlsx\") # Data table with some major element compositions\n",
    "majors"
   ]
  },
  {
   "cell_type": "markdown",
   "metadata": {},
   "source": [
    "The gabbro and wehrlite are the calculated compositions of material that crystallises from Krafla and Theistareykir basalts, with wehrlite dominating in magma with >9.5 wt% MgO, and gabbro at <9.5 wt%. The modal mineralogy of the gabbro is 10% olivine, 40% clinopyroxene and 50% plagioclase, and that of the wehrlite is 70% olivine and 30% clinopyroxene. Ti, Mn, Na and K were not calculated for these materials, although in nature the crystallising phases will contain minor amounts of these elements. All of the iron present in the rocks is given as Fe<sub>2</sub>O<sub>3</sub>. However, Icelandic basalts typically have Fe<sup>2+</sup>/(Fe<sup>2+</sup>+Fe<sup>3+</sup>)=0.9. The rhyolite composition is an erupted composition from the Krafla central volcano, and is thought to be generated by melting of hydrothermally altered crust.\n",
    "\n",
    "### Q3.2: The MgO content of basalts is a useful monitor of the progress of magma chamber processes. What is the likely effect of magma chamber processes on the MgO content? Why should this be the case?"
   ]
  },
  {
   "cell_type": "markdown",
   "metadata": {},
   "source": [
    "*Your answer here...*"
   ]
  },
  {
   "cell_type": "markdown",
   "metadata": {},
   "source": [
    "### Q3.3: Is the magma chamber storage mechanism described above responsible for the variation in eruption rates between glacial and early postglacial times?"
   ]
  },
  {
   "cell_type": "markdown",
   "metadata": {},
   "source": [
    "*Your answer here...*"
   ]
  },
  {
   "cell_type": "markdown",
   "metadata": {},
   "source": [
    "## 4. Mantle Melting\n",
    "\n",
    "Another possible means of varying eruption rates is by altering the rate of melt generation and supply from the mantle. Melting under mid-ocean ridges and in mantle plumes occurs as a result of decompression.\n",
    "\n",
    "### Q4.1: The full spreading rate in Iceland is approximately 20 mm yr<sup>-1</sup>. What is likely to be the average upwelling rate in the melting region under the ridge? (Estimate this average upwelling rate for ridge angles of 30°, 45° and 60°). Use can use python as your calculator, with an example of a trigonometric function below."
   ]
  },
  {
   "cell_type": "code",
   "execution_count": null,
   "metadata": {},
   "outputs": [],
   "source": [
    "test = np.sin(45. * np.pi / 180.) # notice the radians to degrees conversion\n",
    "test"
   ]
  },
  {
   "cell_type": "code",
   "execution_count": null,
   "metadata": {},
   "outputs": [],
   "source": [
    "# Your code here..."
   ]
  },
  {
   "cell_type": "markdown",
   "metadata": {},
   "source": [
    "### Q4.2: Convert this upwelling rate into a rate of decompression ($dP/dt$). Use SI units of Pa for pressure and s for time."
   ]
  },
  {
   "cell_type": "code",
   "execution_count": null,
   "metadata": {},
   "outputs": [],
   "source": [
    "# Your code here...\n"
   ]
  },
  {
   "cell_type": "markdown",
   "metadata": {},
   "source": [
    "At any given depth, the melting rate is $dX/dt=(dX/dP)\\times(dP/dt)$. While melt productivity upon decompression, $dX/DP$, will vary within the melting region, average values are likely to be close to 0.1 GPa<sup>-1</sup> (i.e. 10% per 30 km decompression)."
   ]
  },
  {
   "cell_type": "markdown",
   "metadata": {},
   "source": [
    "### Q4.3: Estimate the average melting rate in the melting region under northern Iceland that results from plate spreading"
   ]
  },
  {
   "cell_type": "code",
   "execution_count": null,
   "metadata": {
    "scrolled": true
   },
   "outputs": [],
   "source": [
    "# Your code here..."
   ]
  },
  {
   "cell_type": "markdown",
   "metadata": {},
   "source": [
    "Removal of the load of the ice sheet can also lead to decompression. The maximum thickness of the ice-sheet was close to 2 km, and it was removed in approximately 1000 years.\n",
    "\n",
    "### Q4.4: Estimate the decompression rate that results from deglaciation."
   ]
  },
  {
   "cell_type": "code",
   "execution_count": null,
   "metadata": {},
   "outputs": [],
   "source": [
    "# Your code here..."
   ]
  },
  {
   "cell_type": "markdown",
   "metadata": {},
   "source": [
    "### Q4.5: Calculate the average melting rate in the melting region that results from this decompression.\n"
   ]
  },
  {
   "cell_type": "code",
   "execution_count": null,
   "metadata": {},
   "outputs": [],
   "source": [
    "# Your code here..."
   ]
  },
  {
   "cell_type": "markdown",
   "metadata": {},
   "source": [
    "### Q4.6: Estimate the relative increase in melting rates during deglaciation.\n"
   ]
  },
  {
   "cell_type": "code",
   "execution_count": null,
   "metadata": {},
   "outputs": [],
   "source": [
    "# Your code here..."
   ]
  },
  {
   "cell_type": "markdown",
   "metadata": {},
   "source": [
    "### Q4.7: How does this increase compare with the variation in eruption rates between steady-state conditions (glacial or recent times, when ice-sheet size is not changing) and the early postglacial period between 12 kyr and 10.5 kyr ago?"
   ]
  },
  {
   "cell_type": "markdown",
   "metadata": {},
   "source": [
    "*Your answer here...*"
   ]
  },
  {
   "cell_type": "markdown",
   "metadata": {},
   "source": [
    "These simple calculations indicate that deglaciation may indeed have an important effect upon mantle melting under Iceland. However, in the calculations above, it was assumed that the decompression resulting from unloading of the ice would result in uniform decompression in the melting region. Detailed models of the effects of unloading on decompression rates within a visco-elastic medium were first performed by [Jull & McKenzie](http://onlinelibrary.wiley.com/doi/10.1029/96JB01308/abstract) (JM96) and results are shown in the figures available in the lab, or the powerpoint presentation on Moodle. Updated calculations and a [fancy video](https://agupubs.onlinelibrary.wiley.com/action/downloadSupplement?doi=10.1029%2F2019GC008222&file=ggge21894-sup-0002-2019GC008222-Movie_SI-S01.mp4) are available in [Eksinchol et al., 2019](https://agupubs.onlinelibrary.wiley.com/doi/full/10.1029/2019GC008222)."
   ]
  },
  {
   "cell_type": "markdown",
   "metadata": {},
   "source": [
    "### Q4.8: According to the decompression model of Jull & McKenzie, does the proportion of melt generated in the shallower parts of the melting region increase or decrease during the unloading period? "
   ]
  },
  {
   "cell_type": "markdown",
   "metadata": {},
   "source": [
    "*Your answer here...*"
   ]
  },
  {
   "cell_type": "markdown",
   "metadata": {},
   "source": [
    "## 5. Geochemical Test of Melting Models\n",
    "\n",
    "Once again, the action of this decompression mechanism in nature can be checked using geochemical observations. Please recall the variation in the Rare Earth Element (REE) composition of instantaneous fractional melts as a function of depth (see Lecture 20 notes and the figure available in the lab (or in the powerpoint on Moodle).\n",
    "\n",
    "### Q5.1: If melting is influenced by deglaciation as predicted by JM96, would early postglacial eruptions have higher or lower La contents than glacial and recent eruptions? What about La/Yb ratio?"
   ]
  },
  {
   "cell_type": "markdown",
   "metadata": {},
   "source": [
    "*Your answer here...*"
   ]
  },
  {
   "cell_type": "markdown",
   "metadata": {},
   "source": [
    "### Q5.2: How do these predictions compare with the observations provided in the data sets you looked at earlier?"
   ]
  },
  {
   "cell_type": "markdown",
   "metadata": {},
   "source": [
    "*Your answer here...*"
   ]
  },
  {
   "cell_type": "markdown",
   "metadata": {},
   "source": [
    "### Q5.3: If deglaciation does indeed influence mantle melting, can you use the relative timing of deglaciation and the postglacial increase in eruption rates to constrain the upwards transport rates of melt in the mantle?"
   ]
  },
  {
   "cell_type": "markdown",
   "metadata": {},
   "source": [
    "*Your answer here...*"
   ]
  },
  {
   "cell_type": "markdown",
   "metadata": {},
   "source": [
    "### Q5.4: Can you think of any possible parts of a positive feedback loop whereby an increase in eruption rates causes increased rates of deglaciation?"
   ]
  },
  {
   "cell_type": "markdown",
   "metadata": {},
   "source": [
    "*Your answer here...*"
   ]
  },
  {
   "cell_type": "code",
   "execution_count": null,
   "metadata": {},
   "outputs": [],
   "source": []
  }
 ],
 "metadata": {
  "jupytext": {
   "cell_metadata_filter": "name,tags,-all",
   "main_language": "R",
   "notebook_metadata_filter": "-all"
  },
  "kernelspec": {
   "display_name": "Python 3 (ipykernel)",
   "language": "python",
   "name": "python3"
  },
  "language_info": {
   "codemirror_mode": {
    "name": "ipython",
    "version": 3
   },
   "file_extension": ".py",
   "mimetype": "text/x-python",
   "name": "python",
   "nbconvert_exporter": "python",
   "pygments_lexer": "ipython3",
   "version": "3.11.1"
  }
 },
 "nbformat": 4,
 "nbformat_minor": 4
}
