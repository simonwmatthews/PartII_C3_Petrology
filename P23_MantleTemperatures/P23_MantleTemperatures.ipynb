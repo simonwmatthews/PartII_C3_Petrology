{
 "cells": [
  {
   "cell_type": "markdown",
   "id": "447260e1-0544-48f4-9c88-5e8d9e88bd3a",
   "metadata": {},
   "source": [
    "# Part II C3 Petrology - Practical 23: Estimating Mantle Temperatures\n",
    "\n",
    "*Simon Matthews (sm905@cam.ac.uk), Lent 2023*"
   ]
  },
  {
   "cell_type": "markdown",
   "id": "38fc0fd5-e93f-4fa7-a166-cdf544bc95e4",
   "metadata": {},
   "source": [
    "In earlier lectures and practicals you have examined some of the methods that have been used to estimate mantle potential temperatures, $T_p$, from observations at mid-ocean ridges. In particular we have investigated how correlated variations in oceanic crustal thickness, ridge axial depth and MORB chemistry can be understood within the framework of a simple model of adiabatic decompression melting. The correlated variations are thought to reflect variations in $T_p$ of about 200$^{\\circ}$C around the global MOR system.\n",
    "\n",
    "It is useful to find independent observations that can be used to constrain $T_p$ that rely on different sets of assumptions to those involved in the modelling described above. A very popular technique is to use petrological observations to estimate the temperatures of primary mantle melts, and then correcting for heat conversion during melting to arrive at $T_p$. The first step generally involves using the temperature dependence of mineral-mineral or mineral-melt equilibria combined with measured mineral and rock compositions. One such petrological thermometer is based on the temperature-dependence of aluminium partitioning in olivine (the olivine-spinel Al-exchange thermometer).\n",
    "\n",
    "In this practical you will use this thermometer to estimate the temperature at which primitive olivine crystals form in Iceland and MORB. You will then set up a simple model to relate crystallisation temperatures to mantle $T_p$."
   ]
  },
  {
   "cell_type": "markdown",
   "id": "7924611a-9eac-4cdf-9aef-4ef219ce82f0",
   "metadata": {},
   "source": [
    "## 1. How does Al-in-olivine thermometry work?\n",
    "\n",
    "As you might expect from thermodynamic arguments, the ability of olivine to tolerate Al within its structure increases with increasing temperature. In effect, the partition coefficient of Al between olivine and melt rises at higher temperatures. It is also well known that the partitioning of Fe and Mg between olivine and melt is strongly temperature dependent. So, if we can find pairs of olivine and liquid that we know were in chemical equilibrium at igneous conditions, we might be able to use them as thermometers - much like the approach that you may familiar with from metamorphic petrology.\n",
    "\n",
    "### 1.1 Petrography, chemical mapping and equilibrium\n",
    "\n",
    "Take a look at the image below, which shows a map of the Fe content of part of the glassy rim of an olivine-porphyritic pillow lava. The basaltic glass is blue and olivines are mostly green. \n",
    "\n",
    "![](femap.jpg)\n",
    "\n",
    "The zonation patterns observed in the olivines are almost ubiquitous in macrocrysts from MORB. \n",
    "\n",
    "#### Q1.1: What challenges do such zoning patterns present for thermometry in basaltic systems?"
   ]
  },
  {
   "cell_type": "markdown",
   "id": "aa4b909b-6cf9-4e94-adac-065bf64b821b",
   "metadata": {},
   "source": [
    "*Your answer here...*"
   ]
  },
  {
   "cell_type": "markdown",
   "id": "0ef3114e-0bc5-4328-9de4-ce9fa5c53faa",
   "metadata": {},
   "source": [
    "#### Q1.2: How might you estimate the composition of the magma that the cores of olivine crystals are in equilibrium with? Is this likely to be the melt the olivine crystallised from?"
   ]
  },
  {
   "cell_type": "markdown",
   "id": "f695abc9-4fca-4961-ad92-8fa2738bedc2",
   "metadata": {},
   "source": [
    "*Your answer here...*"
   ]
  },
  {
   "cell_type": "markdown",
   "id": "b66c92e8-29ca-4e3e-b140-f7e406b1de4c",
   "metadata": {},
   "source": [
    "### 1.2 Thermometry equations\n",
    "\n",
    "In order to circumvent these problems, scientists such as [Coogan et al.](http://www.sciencedirect.com/science/article/pii/S0009254114000278) have investigated the partitioning of Al between olivine and spinel. The hope here is that spinel inclusions trapped inside olivine crystallisting from primitive melts can retain their high temperature equilibrium compositions because Al diffusion is very slow in olivine. Chromian spinel is a common liquidus phase in primitive basaltic melts, so is often found in association with highly forsteritic olivines that grow at high temperatures in basaltic systems.\n",
    "\n",
    "Coogan et al. suggested that the dominiant mode of Al exchange between olivine and spinel involved the following reaction:\n",
    "$$\\require{mhchem}$$\n",
    "$$\\ce{MgAl2O4 (spinel) -> (MgAl) AlO4 (olivine)}$$\n",
    "\n",
    "with the charge balance being maintained as $\\ce{Al^{3}+}$ replaces one $\\ce{Mg^{2}+}$ on an M site and one $\\ce{Si^{4}+}$ on a T site when compared with forsterite $\\ce{Mg2SiO4}$. Their experimental data was used to provide the following empirical thermometer for Al-in-ol:\n",
    "\n",
    "$$T = \\frac{10000}{(A +B \\times Cr{\\#} + C \\times \\ln{k_d})}$$\n",
    "\n",
    "where $T$ is the equilibrium temperature in Kelvin, the 'chrome-number' of the spinel is given by: \n",
    "\n",
    "$$ Cr{\\#} = \\frac{X_{Cr}}{X_{Cr}+X_{Al}}$$\n",
    "\n",
    "with $X_{Cr}$ and $X_{Al}$ being the mole fractions of Cr and Al in the spinel. The partition coefficient of Al between the olivine and spinel is given by \n",
    "\n",
    "$$ k_d = \\frac{\\ce{Al2O3^{ol}}}{\\ce{Al2O3^{sp}}}$$\n",
    "\n",
    "with $\\ce{Al2O3^{ol}}$ and $\\ce{Al2O3^{sp}}$ being wt% oxide contents of Al in the olivine and spinel respectively. The constants in the thermometer are determined by multiple linear regression and are given as $A= 0.575 \\pm 0.162$, $B= 0.884 \\pm 0.043$ and $C = -0.897 \\pm 0.25$ by Coogan et al.\n",
    "\n",
    "#### Q1.3: Check by inspection of the equations that you can see that higher Al contents in olivines correspond to higher temperatures of equilibration."
   ]
  },
  {
   "cell_type": "markdown",
   "id": "efb1cb40-6d89-407b-b173-cb1ae575b37a",
   "metadata": {},
   "source": [
    "## 2. Application of the thermometer to data from spreading ridges\n",
    "\n",
    "### 2.1. Data Processing\n",
    "\n",
    "A table is provided in the file *olsp.csv* that contains olivine and spinel compositions from various spreading ridge settings. \n",
    "\n",
    "#### Q2.1: Using what you learnt in the last practical, read in this file. Read the [manual](https://pandas.pydata.org/pandas-docs/stable/reference/api/pandas.read_csv.html) and add this line of code to a cell below. "
   ]
  },
  {
   "cell_type": "code",
   "execution_count": null,
   "id": "6e6c4700-a866-47f0-9d4d-e6206995de97",
   "metadata": {},
   "outputs": [],
   "source": [
    "# Your code here...\n"
   ]
  },
  {
   "cell_type": "markdown",
   "id": "16f38c06-d9f3-4cc5-8f3c-2a21dd90b0f4",
   "metadata": {},
   "source": [
    "The compositions are provided as wt% oxides and the olivine compositions are in columns with the \"_ol\" in the header and the spinel compositions have \"_sp\". Next, we should calculate the forsterite content of the olivines and store it in the same data file. \n",
    "\n",
    "#### Q2.2: Use the same approach as in the previous practicals to add a new column to your dataframe that contains your estimate of forsterite content. \n",
    "\n",
    "*Here is a [useful Pandas data wrangling cheatsheet](https://pandas.pydata.org/Pandas_Cheat_Sheet.pdf) - look for \"Make New Columns\".*\n",
    "\n",
    "*Remember, to calculate the molar proportion of forsterite in the olivine compositions we need to use the molecular weights of FeO and MgO.*"
   ]
  },
  {
   "cell_type": "code",
   "execution_count": null,
   "id": "051f6046-ce46-421b-bf02-fb9065f212c1",
   "metadata": {},
   "outputs": [],
   "source": []
  },
  {
   "cell_type": "markdown",
   "id": "c674d30a-59da-4549-908b-8039427ce54d",
   "metadata": {},
   "source": [
    "#### Q2.3: Now, make a plot to see if we can see any obvious differences in the Al content of olivines from different portions of the mid-ocean ridge system. \n",
    "\n",
    "*Here's some code to get you started, but you will need to edit it for the variable names you used in the previous steps:*"
   ]
  },
  {
   "cell_type": "code",
   "execution_count": null,
   "id": "0df7c504-07ea-4124-a915-42edba2888e7",
   "metadata": {},
   "outputs": [],
   "source": [
    "# Import packages we will want to use:\n",
    "import matplotlib.pyplot as plt\n",
    "import numpy as np"
   ]
  },
  {
   "cell_type": "code",
   "execution_count": null,
   "id": "6fc2a60c-f7ab-4f46-888f-d8a0cd9ab38a",
   "metadata": {},
   "outputs": [],
   "source": [
    "# Split the data in groups according to which ridge it is listed as in the table:\n",
    "groups = olsp.groupby('Ridge') \n",
    "\n",
    "# Start making a matplotlib plot\n",
    "fig, ax = plt.subplots()\n",
    "\n",
    "# Run a block of code for each of the groups:\n",
    "for name, group in groups:\n",
    "    ax.scatter(group.Fo, group.Al2O3_ol, label=name)\n",
    "\n",
    "# Create a legend using the labels given in the scatter command above:\n",
    "ax.legend()\n",
    "\n",
    "# Set the axis labels:\n",
    "ax.set_xlabel('Olivine Fo')\n",
    "ax.set_ylabel('Olivine Al$_2$O$_3$ (wt%)')\n",
    "\n",
    "# Display the plot\n",
    "plt.show()"
   ]
  },
  {
   "cell_type": "markdown",
   "id": "cc619e6c-121d-4bbc-a7d2-443081eea0f1",
   "metadata": {},
   "source": [
    "#### Q2.4: Based on observations from this plot, what would your initial estimate be of the relative difference in $T_p$ between Iceland and the other stretches of spreading ridges? Why?"
   ]
  },
  {
   "cell_type": "markdown",
   "id": "bee5e2f1-a930-4c0d-8c60-bb43f1dcf8ef",
   "metadata": {},
   "source": [
    "*Your answer here...*"
   ]
  },
  {
   "cell_type": "markdown",
   "id": "110b3fc5-afad-4181-a4d6-03ad6896bacc",
   "metadata": {},
   "source": [
    "## 3. Quantifying Crystallisation Temperatures\n",
    "\n",
    "Comparing only the Al<sub>2</sub>O<sub>3</sub> contents of olivine between locations doesn't account for any differences in melt composition.\n",
    "\n",
    "#### Q3.1: Why might melt composition (in particular Al<sub>2</sub>O<sub>3</sub>) vary systematically with $T_p$?"
   ]
  },
  {
   "cell_type": "markdown",
   "id": "90b73b94-46e8-42b4-8f51-ac454fea1453",
   "metadata": {},
   "source": [
    "*Your answer here...*"
   ]
  },
  {
   "cell_type": "markdown",
   "id": "462b4261-c684-4b9f-bb41-364967ad763d",
   "metadata": {},
   "source": [
    "#### Q3.2: Using the equations for the olivine-spinel aluminium-exchange thermometer given above, calculate the crystallisation temperatures of the olivine spinel pairs\n",
    "\n",
    "*You might want to calculate each parameter needed for equation individually before calculating the crystallisation temperature.*\n",
    "\n",
    "*Numpy (imported already) has a function for calculating the natural logarithm. You might be able to guess what it is called, or you can find it in the Numpy documentation (via google).*"
   ]
  },
  {
   "cell_type": "code",
   "execution_count": null,
   "id": "2395b2e0-2454-48cd-a788-a220b980d624",
   "metadata": {},
   "outputs": [],
   "source": []
  },
  {
   "cell_type": "markdown",
   "id": "d48a26bd-3834-4e76-b089-91ab73797f05",
   "metadata": {},
   "source": [
    "#### Q3.3: Make a plot of crystallisation temperature vs forsterite content."
   ]
  },
  {
   "cell_type": "code",
   "execution_count": null,
   "id": "2865f5ca-a856-40ab-9e7a-1fd949d175fb",
   "metadata": {},
   "outputs": [],
   "source": []
  },
  {
   "cell_type": "markdown",
   "id": "f3b6eb33-883c-4bc8-829a-4d86994f86ef",
   "metadata": {},
   "source": [
    "#### Q3.4: Comment on the observed relationship between olivine-spinel equilibration temperature and host olivine forsterite content within the Icelandic sample set. Which of these olivine-spinel pairs is most suitable for estimating mantle temperatures?"
   ]
  },
  {
   "cell_type": "markdown",
   "id": "ea978b75-5325-4571-86af-3cc2a62da767",
   "metadata": {},
   "source": [
    "*Your answer here...*"
   ]
  },
  {
   "cell_type": "markdown",
   "id": "69930e4d-530c-451e-b09f-bbccc1a73043",
   "metadata": {},
   "source": [
    "#### Q3.5: What is the apparent temperature difference between the crystallisation of the most primitive melts from Iceland and the East Pacific rise? How does this difference compare with the global temperature variations inferred from the correlations between observed Na<sub>8</sub> and oceanic crustal thickness?"
   ]
  },
  {
   "cell_type": "markdown",
   "id": "18069d21-0e1f-4337-8a0d-99511490b502",
   "metadata": {},
   "source": [
    "*Your answer here...*"
   ]
  },
  {
   "cell_type": "markdown",
   "id": "a364bab8-2266-44f1-94d8-ff4ef8d3d7ce",
   "metadata": {},
   "source": [
    "## 4. Estimating Mantle Potential Temperature\n",
    "\n",
    "Now we will use these crystallisation temperatures to estimate the variation in $T_p$ between the rift segments.\n",
    "\n",
    "#### Q4.1 Why are the maximum crystallisation temperatures not identical to mantle $T_p$?"
   ]
  },
  {
   "cell_type": "markdown",
   "id": "10b58fca-81f8-450b-bf08-17b985651be6",
   "metadata": {},
   "source": [
    "*Your answer here...*"
   ]
  },
  {
   "cell_type": "markdown",
   "id": "cfb2b99a-3e9a-4e7f-ae53-0c66733792b4",
   "metadata": {},
   "source": [
    "In your lecture notes, find the expressions you would need to use to calculate the temperature change during mantle melting and decompression. \n",
    "\n",
    "#### Q4.1: Outline broadly how these expressions would be used in practice to calculate the temperature changes (i.e., what would the algorithm look like)?\n",
    "\n",
    "*Please ask a demonstrator if this isn't clear*"
   ]
  },
  {
   "cell_type": "markdown",
   "id": "3fa094b9-01c1-402f-b70f-18e31ed388ec",
   "metadata": {},
   "source": [
    "*Your answer here...*"
   ]
  },
  {
   "cell_type": "markdown",
   "id": "8f75357a-ebb8-4f9d-800a-3717a0f9090e",
   "metadata": {},
   "source": [
    "#### Q4.2: Why does the temperature of the mantle decrease during melting? What is happening to the heat energy?"
   ]
  },
  {
   "cell_type": "markdown",
   "id": "dd963444-1bba-44e6-b30a-ce9f5d37c5cc",
   "metadata": {},
   "source": [
    "*Your answer here...*"
   ]
  },
  {
   "cell_type": "markdown",
   "id": "2d0498e0-2904-45e6-85cf-197cafa38ce5",
   "metadata": {},
   "source": [
    "These expressions turn out to be straightforward to calculate, but doing so is extremely tedious and time consuming. Fortunately this is what the python module `pyMelt` is designed to do!\n",
    "\n",
    "Here's some code that loads pyMelt, creates a mantle lithology, melts it at a given $T_p$, and then calculates the primary crystallisation temperature:"
   ]
  },
  {
   "cell_type": "code",
   "execution_count": null,
   "id": "cf8ef316-3b12-446a-b60c-80b1c0551d69",
   "metadata": {},
   "outputs": [],
   "source": [
    "import pyMelt as m # Only need to run once"
   ]
  },
  {
   "cell_type": "code",
   "execution_count": null,
   "id": "7e1a1a51-5af7-4130-96e0-9c4304ead69e",
   "metadata": {},
   "outputs": [],
   "source": [
    "# Create a KLB1 lherzolite:\n",
    "lz = m.lithologies.matthews.klb1()\n",
    "\n",
    "# Make a mantle out of this lherzolite:\n",
    "mantle = m.mantle([lz], [1.0], ['lz'])\n",
    "\n",
    "# Melt it at a Tp of 1400 degC to generate a melting column:\n",
    "column = mantle.adiabaticMelt(1400.0)\n",
    "\n",
    "# Create a Spreading ridge from this melting column:\n",
    "ridge = m.geosettings.spreadingCentre(column)\n",
    "\n",
    "# Calculate the crystallisation temperature and print it:\n",
    "Tcrys_model = ridge.meltCrystallisationT()[0]\n",
    "print('Tcrys is {:.0f}˚C'.format(Tcrys_model))"
   ]
  },
  {
   "cell_type": "markdown",
   "id": "445ffd14-b786-424f-aed6-78f5f4b1346c",
   "metadata": {},
   "source": [
    "But what happens in this final step of the calculation? Well we can visualise it here:"
   ]
  },
  {
   "cell_type": "code",
   "execution_count": null,
   "id": "7d626fc4-4027-4681-99e8-31d7dce44598",
   "metadata": {},
   "outputs": [],
   "source": [
    "# Get the default plot from pyMelt:\n",
    "fig, ax = column.plot()\n",
    "\n",
    "ax[0].axhline(ridge.P_base_of_crust, c='k')\n",
    "ax[1].axhline(ridge.P_base_of_crust, c='k')\n",
    "\n",
    "ax[0].scatter([Tcrys_model], [ridge.P_base_of_crust], \n",
    "              marker='d', c='C3', s=100, zorder=10)\n",
    "\n",
    "plt.show()"
   ]
  },
  {
   "cell_type": "markdown",
   "id": "1d5f2bad-8c75-473a-9624-85c5ade5437b",
   "metadata": {},
   "source": [
    "In this plot I have drawn the crustal thickness on using a horizontal black line, and added the calculated crystallisation temperature as the red diamond. Note that the diamond is at the base of the crust. This is because, unless you tell it otherwise, pyMelt will assume magmas crystallise at the base of the crust (and are then entrained prior to eruption).\n",
    "\n",
    "#### Q4.2: How do expect the crystallisation temperature would be different were the melts to ascend to a shallower magma chamber before crystallising?"
   ]
  },
  {
   "cell_type": "markdown",
   "id": "e0b5d0d8-230e-42ab-8e86-514aeaccf7f1",
   "metadata": {},
   "source": [
    "*Your answer here...*"
   ]
  },
  {
   "cell_type": "markdown",
   "id": "4f7003c0-7160-4319-9dc1-e23d1a160bb0",
   "metadata": {},
   "source": [
    "#### Q4.3: Use the code above to estimate the $T_p$ for Iceland and MORB\n",
    "\n",
    "*You might want to copy and paste it for each place*"
   ]
  },
  {
   "cell_type": "code",
   "execution_count": null,
   "id": "ee6cc15c-4cc8-415c-9a52-14907877fc67",
   "metadata": {},
   "outputs": [],
   "source": [
    "# Your code here...\n"
   ]
  },
  {
   "cell_type": "code",
   "execution_count": null,
   "id": "4604158f-9062-41da-87ab-0b74d4f9cb64",
   "metadata": {},
   "outputs": [],
   "source": [
    "# Your code here...\n"
   ]
  },
  {
   "cell_type": "markdown",
   "id": "df9102d2-2afe-4a78-a54d-3e0ed91e7bc8",
   "metadata": {},
   "source": [
    "#### Q4.4: How big (approximately) do you think the uncertainty will be on the $T_p$ estimates? Will the uncertainty from the geothermometer calibration be the largest source of error? How many other sources of error can you think of?"
   ]
  },
  {
   "cell_type": "markdown",
   "id": "ad15d830-2313-425c-afcf-e6f0b5df26e0",
   "metadata": {},
   "source": [
    "*Your answer here...*"
   ]
  },
  {
   "cell_type": "markdown",
   "id": "5317ed81-1bd4-4c50-8d39-32e23525a328",
   "metadata": {},
   "source": [
    "#### Q4.5: How does the difference in calculated $T_p$ compare to the difference in crystallisation temperatures?"
   ]
  },
  {
   "cell_type": "markdown",
   "id": "1ee88288-4be8-48a5-a558-5afb785a0263",
   "metadata": {},
   "source": [
    "*Your answer here...*"
   ]
  },
  {
   "cell_type": "markdown",
   "id": "d585255e-638b-4076-b77d-2d08af80c06c",
   "metadata": {},
   "source": [
    "An additional complexity when estimating mantle $T_p$ is mantle heterogeneity. For the approach we have taken lithological heterogeneity can affect the results significantly. We can get a feeling for this using pyMelt by introducing a pyroxenite component:"
   ]
  },
  {
   "cell_type": "code",
   "execution_count": null,
   "id": "587d0f0d-0810-466e-8304-157ee51decab",
   "metadata": {},
   "outputs": [],
   "source": [
    "# Create a pyroxenite (this is a hybrid pyroxenite composition):\n",
    "px = m.lithologies.matthews.kg1()\n",
    "\n",
    "# Create a heterogeneous mantle:\n",
    "mantle = m.mantle([lz, px], \n",
    "                  [0.9,  # The fraction of lherzolite\n",
    "                   0.1], # The fraction of pyroxenite\n",
    "                  ['lz', 'px'])\n",
    "\n",
    "column = mantle.adiabaticMelt(1400)\n",
    "ridge = m.geosettings.spreadingCentre(column)\n",
    "Tcrys_model = ridge.meltCrystallisationT()[0]\n",
    "print('Tcrys is {:.0f}˚C'.format(Tcrys_model))"
   ]
  },
  {
   "cell_type": "code",
   "execution_count": null,
   "id": "eee943ac-eae7-4f4e-a1ad-6ae98c9a72a5",
   "metadata": {},
   "outputs": [],
   "source": [
    "f, a = column.plot()"
   ]
  },
  {
   "cell_type": "markdown",
   "id": "797c432e-046c-4ac2-99da-a97785764e03",
   "metadata": {},
   "source": [
    "#### Q4.6: How does introducing pyroxenite affect the estimated crystallisation temperature? Why?"
   ]
  },
  {
   "cell_type": "markdown",
   "id": "ae4e2562-530d-4c1c-8cbf-1751f8076718",
   "metadata": {},
   "source": [
    "*Your answer here...*"
   ]
  },
  {
   "cell_type": "markdown",
   "id": "b8d3623b-7a4d-4b03-8915-b70d783c9f20",
   "metadata": {},
   "source": [
    "#### Q4.7: How might the presence of lithological heterogeneity introduce systematic errors into $T_p$ estimates derived using a lherzolitic mantle? In what sense will the estimates by biased?"
   ]
  },
  {
   "cell_type": "markdown",
   "id": "c9e9b1b3-5c6c-444d-b964-c01ed24fd3b9",
   "metadata": {},
   "source": [
    "*Your answer here...*"
   ]
  },
  {
   "cell_type": "markdown",
   "id": "2942a9be-6b92-4524-a9a7-aaf54c7163f3",
   "metadata": {},
   "source": [
    "## 5. Summary\n",
    "\n",
    "This exercise is a based on work that came out of my Part III project several years ago... To read a full description of the method, the uncertainties, and the effect of lithological heterogeneity you can read [Matthews et al., 2016](http://onlinelibrary.wiley.com/wol1/doi/10.1002/2016GC006497/full). To see how we applied the same methods to OIB (and some of the additional uncertainties that introduces) you can read [Matthews et al., 2021](https://agupubs.onlinelibrary.wiley.com/doi/abs/10.1029/2020GC009157). Also, take a look at the papers from, for example, [Dalton et al., 2014](http://science.sciencemag.org/content/344/6179/80.full) for an understanding of how such petrological constraints on mantle $T_p$ might be related to geophysical observables. "
   ]
  },
  {
   "cell_type": "code",
   "execution_count": null,
   "id": "5dbd80d9-55fc-411e-b067-1428a3cfe024",
   "metadata": {},
   "outputs": [],
   "source": []
  }
 ],
 "metadata": {
  "kernelspec": {
   "display_name": "Python 3 (ipykernel)",
   "language": "python",
   "name": "python3"
  },
  "language_info": {
   "codemirror_mode": {
    "name": "ipython",
    "version": 3
   },
   "file_extension": ".py",
   "mimetype": "text/x-python",
   "name": "python",
   "nbconvert_exporter": "python",
   "pygments_lexer": "ipython3",
   "version": "3.11.1"
  }
 },
 "nbformat": 4,
 "nbformat_minor": 5
}
