{
 "cells": [
  {
   "cell_type": "markdown",
   "id": "d69853db-07cf-4462-a9b9-f007ab646a94",
   "metadata": {},
   "source": [
    "# Part II C3 Petrology - Practical 24: Crystallisation in the Icelandic Crust\n",
    "\n",
    "*Simon Matthews (sm905@cam.ac.uk), Lent 2023\n",
    "\n",
    "In this practical you will apply some commonly used geobarometers to understanding how crystallisation happens in the Icelandic crust, and how that might be transferrable to understanding mid-ocean ridges in general.\n",
    "\n",
    "## 1. Crustal Accretion at Mid-Ocean Ridges\n",
    "\n",
    "The mode of crustal accretion at mid-ocean ridges can be constrained with geophysical and geochemical observations at active ridges and geological work at ophiolites. Two end-member models of crustal accretion are the gabbro-glacier models and the stacked-sills models. \n",
    "\n",
    "In the __gabbro glacier__, melt is supplied directly from the mantle to a shallow magma chamber. Cooling of melt and crystallisation occurs in this magma chamber. The solid cumulate gabbros of the lower crust are then fed downwards by solid flow to generate the full thickness of oceanic crust. Importantly, in this model, all crystallisation takes place in the shallow melt lens and above. \n",
    "\n",
    "In contrast, the __stacked-sills model__, favoured by workers such as Peter [Kelemen](http://www.sciencedirect.com/science/article/pii/S0012821X9600235X), involves crystallisation throughout the lower axial crust. In this model, mantle melts stall close to, or beneath, the Moho in small melt sills. Cooling and crystallisation occurs in these sills. Melt is then extracted from the sills, and may pond and crystallise in a series of sills in the lower crust. Therefore, in contrast to the gabbro-glacier model, the stacked-sills model involves crystallisation at a range of depths in the lower crust.\n",
    "\n",
    "![*Figure 1: Schematic showing distribution of magma chambers, solid flow and melt flow in a) gabbro glacier and b) stacked sills crustal accretion models at typical fast-spreading ridges*](gabbro_glac.png)\n",
    "\n",
    "\n",
    "**Figure 1:** *Schematic showing distribution of magma chambers, solid flow and melt flow in a) gabbro glacier and b) stacked sills crustal accretion models at typical fast-spreading ridges.*\n",
    "\n",
    "Arguments over oceanic crustal accretion mechanisms tend to focus on fast-spreading ridges. However, studying the Icelandic rift zones has made an important contribution to this subject. Geophysical studies have identified a shallow melt lens at 3-5 km depth under the Krafla caldera. This melt lens apparently sits above a predominantly solid lower crust that extends to ~20 km depth at Krafla. The arrangement of a shallow melt lens over a seismically fast lower crust inspired the development of a gabbro-glacier model of crustal accretion for Iceland [(Menke and Sparks, 1995)](http://onlinelibrary.wiley.com/doi/10.1029/95GL01597/full). In this practical, we will use the major element composition and petrography of Icelandic basalts to test this gabbro-glacier model. \n",
    "\n",
    "## 2. Iceland: The Krafla and Theistareykir volcanic systems ##\n",
    "\n",
    "The northern part of the Northern Rift Zone is a good location to examine crustal accretion mechanisms because it has been the focus of geophysical, geological and petrological observations since the 1975-84 Krafla fissure eruptions. Use Google Earth to take a look at the region and refer to geological maps to get a feeling for the area.\n",
    "\n",
    "![*Figure 2: (a) Results of the FIRE seismic survey across the ridge axis at Krafla. Both the horizontal and vertical scales are in km; there is no vertical exaggeration. The zero position lies close to the centre of the Krafla caldera. P-wave isovelocity contours are marked with black lines and the velocity in km s-1. The white fill shows the position of the melt lens. The black triangles mark the points where the seismic section crosses the caldera edge. (b) Tectonic map of Iceland showing positions of fissure swarms (light grey fill) and volcanic zones. WVZ, Western Volcanic Zone; EVZ, Eastern Volcanic Zone; NVZ, Northern Volcanic Zone. Glaciers are marked with white fill and the study area in the NVZ is outlined in black. (c) Tectonic and geological map of Krafla and Theistareykir. Extent of fissure swarms is filled with diagonal lines. The Krafla caldera is marked with ticks on the down-thrown side and the margins of the central volcanic areas are marked with dashed lines. The white circles show the positions of samples collected from Theistareykir and the black squares show the locations of the Krafla samples.The black solid line which cuts across the Krafla caldera is that of the FIRE seismic survey shown in (a). Lake Myvatn is filled white and labelled MY.*](fire.png)\n",
    "\n",
    "**Figure 2:** *(a) Results of the FIRE seismic survey across the ridge axis at Krafla. Both the horizontal and vertical scales are in km; there is no vertical exaggeration. The zero position lies close to the centre of the Krafla caldera. P-wave isovelocity contours are marked with black lines and the velocity in km s<sup>-1</sup>. The white fill shows the position of the melt lens. The black triangles mark the points where the seismic section crosses the caldera edge. (b) Tectonic map of Iceland showing positions of fissure swarms (light grey fill) and volcanic zones. WVZ, Western Volcanic Zone; EVZ, Eastern Volcanic Zone; NVZ, Northern Volcanic Zone. Glaciers are marked with white fill and the study area in the NVZ is outlined in black. (c) Tectonic and geological map of Krafla and Theistareykir. Extent of fissure swarms is filled with diagonal lines. The Krafla caldera is marked with ticks on the down-thrown side and the margins of the central volcanic areas are marked with dashed lines. The white circles show the positions of samples collected from Theistareykir and the black squares show the locations of the Krafla samples. The black solid line which cuts across the Krafla caldera is that of the FIRE seismic survey shown in (a). Lake Myvatn is filled white and labelled MY.*"
   ]
  },
  {
   "cell_type": "markdown",
   "id": "e9d05e15-2ea4-4a68-a529-c76f1f74ae9d",
   "metadata": {},
   "source": [
    "## 3. Composition of crystallising material\n",
    "\n",
    "The major element trends of picrites and basalts from this region can be used to estimate the modal mineralogy of material that is crystallising within the Icelandic crust. \n",
    "\n",
    "#### Q3.1: Take a look at some field photos and photos of thin sections of samples from the Krafla and Theistareykir segments, available in the lab and on Moodle. Note the range of macrocryst types present, their textures, and the modal mineralogy of cumulate xenoliths excavated by these mafic melts.\n"
   ]
  },
  {
   "cell_type": "markdown",
   "id": "c1f4820d-9ac7-4730-9b21-70a488763034",
   "metadata": {},
   "source": [
    "*Your notes here...*"
   ]
  },
  {
   "cell_type": "markdown",
   "id": "7bbac2de-fdcd-4543-9c8d-9cacc87a0130",
   "metadata": {},
   "source": [
    "### 3.1. Reading in and plotting up the Data\n",
    "\n",
    "First we will import the packages we need for the first part of the practical:"
   ]
  },
  {
   "cell_type": "code",
   "execution_count": null,
   "id": "1ac62b8c-691e-4548-8f6a-2806513760bf",
   "metadata": {},
   "outputs": [],
   "source": [
    "import numpy as np\n",
    "import pandas as pd\n",
    "import matplotlib.pyplot as plt"
   ]
  },
  {
   "cell_type": "markdown",
   "id": "da80582d-47c3-4100-956f-25b1da9d55bd",
   "metadata": {},
   "source": [
    "Next, we will load up and plot some whole-rock data from the Krafla and Theistareykir segments.\n",
    "\n",
    "#### Q3.2: Write some code in the cell below to read in the file `maj_p24.csv`, which contains whole rock compositions, as a DataFrame:"
   ]
  },
  {
   "cell_type": "code",
   "execution_count": null,
   "id": "4b0e16d2-4466-434a-91ca-df6ca0a088e5",
   "metadata": {},
   "outputs": [],
   "source": [
    "# Your code here...\n"
   ]
  },
  {
   "cell_type": "markdown",
   "id": "7034e47e-597b-4c7e-8009-5130ad6804a7",
   "metadata": {},
   "source": [
    "#### Q3.3: Read in the file `min_p24.csv`, which contains mineral compositions, as a DataFrame:"
   ]
  },
  {
   "cell_type": "code",
   "execution_count": null,
   "id": "7debb67a-1c68-4cc3-b6ce-fe76d06db84f",
   "metadata": {},
   "outputs": [],
   "source": [
    "# Your code here...\n"
   ]
  },
  {
   "cell_type": "markdown",
   "id": "3e86857b-2441-4cff-9af8-781f93bdd28a",
   "metadata": {},
   "source": [
    "#### Q3.4: Modify the code below so that it will plot from the dataframes you have just created:"
   ]
  },
  {
   "cell_type": "code",
   "execution_count": null,
   "id": "d08bad7e-6be0-411f-8b3b-36eec237c357",
   "metadata": {},
   "outputs": [],
   "source": [
    "fig, ax = plt.subplots()\n",
    "\n",
    "# Plot the whole rock data:\n",
    "ax.scatter(wr.MgO, wr.FeOt, label='Whole rocks')\n",
    "\n",
    "# Plot the minerals, each with a different symbol:\n",
    "markers = ['^', 's', '*']\n",
    "colors = ['C1', 'C2', 'C3']\n",
    "for i, mineral in zip(range(3), mn.Mineral.unique()):\n",
    "    ax.scatter(mn.MgO[mn.Mineral==mineral], \n",
    "               mn.FeOt[mn.Mineral==mineral],\n",
    "               marker=markers[i],\n",
    "               c=colors[i],\n",
    "               s=100,\n",
    "               label=mineral)\n",
    "\n",
    "ax.legend()\n",
    "\n",
    "ax.set_xlabel('MgO (wt%)')\n",
    "ax.set_ylabel('FeOt (wt%)')\n",
    "\n",
    "plt.show()"
   ]
  },
  {
   "cell_type": "markdown",
   "id": "d7cccce8-07db-4328-bbf0-2d05827aede1",
   "metadata": {},
   "source": [
    "FeOt means all iron, both ferric and ferrous, expressed as FeO. Usually about 15% of the Fe is Fe<sup>3+</sup>.\n",
    "\n",
    "#### Q3.5: Now copy and modify this code to produce plots of MgO vs Al<sub>2</sub>O<sub>3</sub> and MgO vs CaO:"
   ]
  },
  {
   "cell_type": "code",
   "execution_count": null,
   "id": "1c9fe301-d566-4759-8e20-49b680cf0765",
   "metadata": {},
   "outputs": [],
   "source": [
    "# Your code here...\n"
   ]
  },
  {
   "cell_type": "code",
   "execution_count": null,
   "id": "933887e7-beea-4fd4-8d82-4e05086ddc0d",
   "metadata": {},
   "outputs": [],
   "source": [
    "# Your code here...\n"
   ]
  },
  {
   "cell_type": "markdown",
   "id": "b4bb8154-380d-41e8-99ff-6c0d33333c82",
   "metadata": {},
   "source": [
    "### 3.2 Interpreting the trends\n",
    "\n",
    "It is possible to understand the kinks and trends in these plots using the concept of a _liquid line of descent_. In this way of thinking, a single liquid composition is supplied from the mantle and then evolves by cooling and fractional crystallisation in magma chambers. The pattern of whole-rock compositions can be broadly matched by such an approach for Krafla and Theistareykir.\n",
    "\n",
    "#### Q3.6: The primary melt compositions for Iceland are not likely to contain more than about 15 wt% MgO. How is it then possible to have whole-rock lava samples that contain >20 wt% MgO? \n",
    "\n",
    "*Hint - look at the thin section images available in the lab and on Moodle.*"
   ]
  },
  {
   "cell_type": "markdown",
   "id": "f32e4e2e-4443-4326-810c-a2ad121d20d5",
   "metadata": {},
   "source": [
    "*Your answer here...*"
   ]
  },
  {
   "cell_type": "markdown",
   "id": "14fccddc-6c2b-4df7-873d-d9d94cc92ce7",
   "metadata": {},
   "source": [
    "You can also see a strong linear trend in samples with <5 wt% MgO. This trend is thought to result partly from fractional crystallisation of a cumulate material containing magnetite (which explains the drop in Fe with evolution) and also mixing of evolved basalts with rhyolites. You should also be able to identify two other dominant segments. \n",
    "\n",
    "We will now quantify the proportions of crystals required to crystallise to generate these trends. One way of doing this (by hand) would be to plot the rock compositions on ternary graph paper and back project the trends onto tie-lines. \n",
    "\n",
    "We are going to use a method similar to this, but using python rather than hand-plotting. We will draw a triangle defined by the three minerals on each of the major element plots above, then find a line that describes the liquid line of descent, and finally see where that intersects the triangle.\n",
    "\n",
    "Here's some code to make these plots. \n",
    "\n",
    "#### Q3.7: Add the array of whole rock compositions to these plots."
   ]
  },
  {
   "cell_type": "code",
   "execution_count": null,
   "id": "19846089-3143-4943-9b12-516f57be4435",
   "metadata": {},
   "outputs": [],
   "source": [
    "line_Fe = {'m': 1,\n",
    "           'c': 1}\n",
    "\n",
    "line_Al = {'m': 2,\n",
    "           'c': 2}\n",
    "\n",
    "line_Ca = {'m': 2,\n",
    "           'c': 2}\n",
    "\n",
    "fig, ax = plt.subplots(2, 2, figsize=[10,7])\n",
    "ax = np.ravel(ax).tolist()\n",
    "\n",
    "mn = mn # You can change the r.h.s. to your mineral dataframe\n",
    "\n",
    "### PLOT WHOLE ROCKS HERE ###\n",
    "\n",
    "\n",
    "\n",
    "\n",
    "markers = ['^', 's', '*']\n",
    "colors = ['C1', 'C2', 'C3']\n",
    "for i, mineral in zip(range(3), mn.Mineral.unique()):\n",
    "    ax[0].scatter(mn.MgO[mn.Mineral==mineral], \n",
    "                  mn.FeOt[mn.Mineral==mineral],\n",
    "                  marker=markers[i],\n",
    "                  c=colors[i],\n",
    "                  s=100,\n",
    "                  label=mineral)\n",
    "    \n",
    "    ax[1].scatter(mn.MgO[mn.Mineral==mineral], \n",
    "                  mn.Al2O3[mn.Mineral==mineral],\n",
    "                  marker=markers[i],\n",
    "                  c=colors[i],\n",
    "                  s=100,\n",
    "                  label=mineral)\n",
    "    \n",
    "    ax[2].scatter(mn.MgO[mn.Mineral==mineral], \n",
    "                  mn.CaO[mn.Mineral==mineral],\n",
    "                  marker=markers[i],\n",
    "                  c=colors[i],\n",
    "                  s=100,\n",
    "                  label=mineral)\n",
    "    \n",
    "ax[0].plot([mn.MgO[mn.Mineral=='Olivine'], \n",
    "            mn.MgO[mn.Mineral=='Clinopyroxene']],\n",
    "           [mn.FeOt[mn.Mineral=='Olivine'], \n",
    "            mn.FeOt[mn.Mineral=='Clinopyroxene']],\n",
    "           c='k')\n",
    "ax[0].plot([mn.MgO[mn.Mineral=='Olivine'], \n",
    "            mn.MgO[mn.Mineral=='Plagioclase']],\n",
    "           [mn.FeOt[mn.Mineral=='Olivine'], \n",
    "            mn.FeOt[mn.Mineral=='Plagioclase']],\n",
    "           c='k')\n",
    "ax[0].plot([mn.MgO[mn.Mineral=='Plagioclase'], \n",
    "            mn.MgO[mn.Mineral=='Clinopyroxene']],\n",
    "           [mn.FeOt[mn.Mineral=='Plagioclase'], \n",
    "            mn.FeOt[mn.Mineral=='Clinopyroxene']],\n",
    "           c='k')\n",
    "\n",
    "ax[1].plot([mn.MgO[mn.Mineral=='Olivine'], \n",
    "            mn.MgO[mn.Mineral=='Clinopyroxene']],\n",
    "           [mn.Al2O3[mn.Mineral=='Olivine'], \n",
    "            mn.Al2O3[mn.Mineral=='Clinopyroxene']],\n",
    "           c='k')\n",
    "ax[1].plot([mn.MgO[mn.Mineral=='Olivine'], \n",
    "            mn.MgO[mn.Mineral=='Plagioclase']],\n",
    "           [mn.Al2O3[mn.Mineral=='Olivine'], \n",
    "            mn.Al2O3[mn.Mineral=='Plagioclase']],\n",
    "           c='k')\n",
    "ax[1].plot([mn.MgO[mn.Mineral=='Plagioclase'], \n",
    "            mn.MgO[mn.Mineral=='Clinopyroxene']],\n",
    "           [mn.Al2O3[mn.Mineral=='Plagioclase'], \n",
    "            mn.Al2O3[mn.Mineral=='Clinopyroxene']],\n",
    "           c='k')\n",
    "\n",
    "ax[2].plot([mn.MgO[mn.Mineral=='Olivine'], \n",
    "            mn.MgO[mn.Mineral=='Clinopyroxene']],\n",
    "           [mn.CaO[mn.Mineral=='Olivine'], \n",
    "            mn.CaO[mn.Mineral=='Clinopyroxene']],\n",
    "           c='k')\n",
    "ax[2].plot([mn.MgO[mn.Mineral=='Olivine'], \n",
    "            mn.MgO[mn.Mineral=='Plagioclase']],\n",
    "           [mn.CaO[mn.Mineral=='Olivine'], \n",
    "            mn.CaO[mn.Mineral=='Plagioclase']],\n",
    "           c='k')\n",
    "ax[2].plot([mn.MgO[mn.Mineral=='Plagioclase'], \n",
    "            mn.MgO[mn.Mineral=='Clinopyroxene']],\n",
    "           [mn.CaO[mn.Mineral=='Plagioclase'], \n",
    "            mn.CaO[mn.Mineral=='Clinopyroxene']],\n",
    "           c='k')\n",
    "\n",
    "ax[3].set_visible(False)\n",
    "\n",
    "for i in range(3):\n",
    "    ax[i].set_xlabel('MgO (wt%)')\n",
    "    ax[i].set_xlim(ax[i].get_xlim())\n",
    "    ax[i].set_ylim(ax[i].get_ylim())\n",
    "ax[0].set_ylabel('FeOt (wt%)')\n",
    "ax[1].set_ylabel('Al$_2$O$_3$ (wt%)')\n",
    "ax[2].set_ylabel('CaO (wt%)')\n",
    "\n",
    "ax[0].plot(ax[0].get_xlim(), \n",
    "           line_Fe['m'] * np.array(ax[0].get_xlim()) + line_Fe['c'],\n",
    "           c='red')\n",
    "\n",
    "ax[1].plot(ax[1].get_xlim(), \n",
    "           line_Al['m'] * np.array(ax[1].get_xlim()) + line_Al['c'],\n",
    "           c='red')\n",
    "\n",
    "ax[2].plot(ax[2].get_xlim(), \n",
    "           line_Ca['m'] * np.array(ax[2].get_xlim()) + line_Ca['c'],\n",
    "           c='red')\n",
    "\n",
    "ax[0].legend(loc='lower right')\n",
    "\n",
    "fig.tight_layout()\n",
    "\n",
    "plt.show()\n"
   ]
  },
  {
   "cell_type": "markdown",
   "id": "9df8a996-bb04-44bd-a5f9-ef447d785555",
   "metadata": {},
   "source": [
    "#### Q3.8: Use these plots (and changing the `line_Fe`, `line_Al`, `line_Ca` parameters) to work out what cumulate proportions could give rise to the two high MgO segments of the liquid line of descent.\n",
    "\n",
    "*You might want to copy and paste the code for each segment. I also suggest decreasing the size of the symbols for the whole rocks.*"
   ]
  },
  {
   "cell_type": "code",
   "execution_count": null,
   "id": "319dbcda-a568-4486-a824-9e5fe9a9c137",
   "metadata": {},
   "outputs": [],
   "source": [
    "# Your code here..."
   ]
  },
  {
   "cell_type": "code",
   "execution_count": null,
   "id": "472fe8db-1425-48a7-a26b-847c9f890a3e",
   "metadata": {},
   "outputs": [],
   "source": [
    "# Your code here..."
   ]
  },
  {
   "cell_type": "markdown",
   "id": "e2a98a7e-b85e-4f30-adf9-c574ce314c09",
   "metadata": {},
   "source": [
    "*Your answer here...*"
   ]
  },
  {
   "cell_type": "markdown",
   "id": "fa9bd7eb-069e-4a57-ba57-b84404bd4606",
   "metadata": {},
   "source": [
    "#### Q3.9: Comment on the relationship between the composition of the crustal xenoliths observed in the Krafla and Theistareykir samples (see photos in lab or moodle) and the calculated cumulate compositions from Question 3.4."
   ]
  },
  {
   "cell_type": "markdown",
   "id": "e455b82e-2073-4b4e-b08d-6a7ab975fb9c",
   "metadata": {},
   "source": [
    "*Your answer here...*"
   ]
  },
  {
   "cell_type": "markdown",
   "id": "85725d3f-eb52-41a4-b9ad-d8ee3623ef8c",
   "metadata": {},
   "source": [
    "#### Q3.10: Use your answers to the previous question and the mineral compositions to estimate the MgO content of the cumulate material formed from the high MgO magmas, and the low MgO magmas:"
   ]
  },
  {
   "cell_type": "code",
   "execution_count": null,
   "id": "86284375-3a8b-4864-93fe-32501664d0ad",
   "metadata": {},
   "outputs": [],
   "source": [
    "# You might want to write some code here..."
   ]
  },
  {
   "cell_type": "markdown",
   "id": "e684c840-8066-4a39-aea2-57141c0cda0d",
   "metadata": {},
   "source": [
    "*Your answer here...*"
   ]
  },
  {
   "cell_type": "markdown",
   "id": "9fc295a3-6306-4749-a9f6-432068b55c3d",
   "metadata": {},
   "source": [
    "#### Q3.11: If the primary melt contains ~14 wt% MgO, then use mass balance to estimate the fraction of crystallisation required to form liquids with 10 wt% MgO and 7 wt% MgO."
   ]
  },
  {
   "cell_type": "code",
   "execution_count": null,
   "id": "015262a8-8b0d-4f12-b27c-4e83c6ea3d4a",
   "metadata": {},
   "outputs": [],
   "source": [
    "# You might want to write some code here..."
   ]
  },
  {
   "cell_type": "markdown",
   "id": "4288a965-382e-4958-9fe6-15a57d038de7",
   "metadata": {},
   "source": [
    "*Your answer here...*"
   ]
  },
  {
   "cell_type": "markdown",
   "id": "72e660d1-f870-4b45-a89c-4e32950e0828",
   "metadata": {},
   "source": [
    "### 3.3. Summary\n",
    "\n",
    "You have just extracted information about the composition of the cumulate material by assuming that the variation in the compositions of lava samples can be matched by fractional crystallisation of the minerals observed as macrocryst phases in the samples themselves. This seems like a reasonable approach. Another approach involves specifying a primary melt composition and the physical conditions of crystallisation and using parameterisations of experimental data and thermodynamic logic to predict the sequence of crystallisation, the mineral proportions, mineral compositions and the liquid line of descent. Programs such as [PETROLOG](https://agupubs.onlinelibrary.wiley.com/doi/10.1029/2011GC003516) by Leonid Danyushevsky and [MELTS](http://melts.ofm-research.org/) by Ghiorso and Sack provide useful tools for exploring crystallisation paths. If you have the time and the inclination you could try to run an LLD model and see if you can match the Icelandic data. There are multiple ways of running MELTS, including via a python interface using cloud based Jupyter Notebooks on the [ENKI server](http://enki-portal.org). The ENKI server is free to use, but requires registering.\n"
   ]
  },
  {
   "cell_type": "markdown",
   "id": "b9d75889-c0be-4094-8e76-cc600c6412b5",
   "metadata": {},
   "source": [
    "## 4. Depth of crystallisation: Clinopyroxene-melt barometry\n",
    "\n",
    "Clinopyroxene phenocrysts are rare in MORB. This observation, combined with the fact that many MORB fractionation trends are gabbro-controlled (i.e. ~40% modal clinopyroxene) has been termed the ‘pyroxene paradox’. However, it is not paradoxical if one understands the effect of pressure on the pyroxene stability field.\n",
    "\n",
    "Fortunately, some Icelandic basalt flows contain clinopyroxene phenocrysts. More primitive flows contain pyroxenes with a distinctive ‘Heineken’ green colour – chromian diopsides. More evolved flows, such as the Krafla fissure eruptions, contain black/purple Ti-bearing augites. The composition of pyroxene phenocrysts is influenced both by the composition of the melt that they grow from and by the physical conditions (i.e. P, T) at the time of growth. [Neave & Putirka](https://pubs.geoscienceworld.org/ammin/article-lookup/102/4/777) have recently parameterised the results of hundreds of experiments that involve cpx-basalt equilibrium, and have produced a thermobarometer for Iceland compositions, shown below:\n",
    "\n",
    "$$ {\\rm P = -26.27 + 39.16 \\frac{T}{10^4} \\ln{\\left[ \\frac{X_{jd}}{X_{NaO0.5}X_{AlO1.5}X_{SiO2}^2} \\right]} -4.22 \\ln(X_{DiHd}) + 78.43X_{AlO1.5} + 393.81\\left(X_{NaO0.5} X_{KO0.5} \\right)^2}$$\n",
    "\n",
    "where ${\\rm X_{jd}}$ and ${\\rm X_{DiHd}}$ describe the Jadeite and Diopside-Hedenbergite components in the clinopyroxene and ${\\rm X_{NaO0.5}}$, ${\\rm X_{AlO1.5}}$, ${\\rm X_{SiO2}}$ and ${\\rm X_{KO0.5}}$ give cation fractions of various elements in the equilibrium melt. \n",
    "\n",
    "#### Q4.1: Inspect this equation. The key term is the second on the right hand side. Does the relationship between pyroxene composition and pressure agree with that which you would expect from metamorphic petrology?"
   ]
  },
  {
   "cell_type": "markdown",
   "id": "d5b6bbbd-56c3-4d47-b232-cb34a5aeb0bc",
   "metadata": {},
   "source": [
    "*Your answer here...*"
   ]
  },
  {
   "cell_type": "markdown",
   "id": "1fe5023e-8f4a-4957-9bba-4f10c054a098",
   "metadata": {},
   "source": [
    "The estimated pressure of crystallisation correlates with the jadeite content of the pyroxene. Application of this thermobarometer to real rocks relies upon the assumption that the pyroxene crystals and the liquid composition are in equilibrium. Unfortunately, many Icelandic samples have crystalline groundmasses, so the whole-rock composition has to be used as an estimate of the liquid composition – problematic if the rock is rich in phenocrysts.\n",
    "The table below shows liquid and clinopyroxene phenocryst compositions from Borgarhraun (a primitive early postglacial flow from Theistareykir) and from the 1984 Krafla fissure eruption. Note the high Al and Cr content of the Borgarhraun cpx – a good sign of high pressure crystallisation.\n",
    "\n",
    "This geobarometer (and many others) has been coded up in the Python module [Thermobar](https://thermobar.readthedocs.io/en/latest/), which we will use here"
   ]
  },
  {
   "cell_type": "code",
   "execution_count": null,
   "id": "4e8a9839-8a3c-4961-96c9-391a6cae5eb6",
   "metadata": {},
   "outputs": [],
   "source": [
    "import Thermobar"
   ]
  },
  {
   "cell_type": "markdown",
   "id": "19d65ed4-3298-4f4d-8e5b-e596e0c6a83c",
   "metadata": {},
   "source": [
    "Here are the compositions of co-existing clinopyroxene and liquids (assuming the whole rock represents the liquid composition):"
   ]
  },
  {
   "cell_type": "code",
   "execution_count": null,
   "id": "cf375d4a-ee76-4bcf-87c0-5f33b9644525",
   "metadata": {},
   "outputs": [],
   "source": [
    "krafla_cpx = {'SiO2': 51.0,\n",
    "              'TiO2': 0.68,\n",
    "              'Al2O3': 2.80,\n",
    "              'FeOt': 8.79,\n",
    "              'MnO': 0.24,\n",
    "              'MgO': 16.55,\n",
    "              'CaO': 18.79,\n",
    "              'Na2O': 0.28,\n",
    "              'K2O': 0.0,\n",
    "              'Cr2O3': 0.85}\n",
    "\n",
    "krafla_liq = {'SiO2': 49.45,\n",
    "              'TiO2': 1.66,\n",
    "              'Al2O3': 14.78,\n",
    "              'FeOt': 12.15,\n",
    "              'MnO': 0.21,\n",
    "              'MgO': 7.61,\n",
    "              'CaO': 11.64,\n",
    "              'Na2O': 2.06,\n",
    "              'K2O': 0.23,\n",
    "              'Cr2O3': 0.04}\n",
    "\n",
    "borg_cpx =   {'SiO2': 51.28,\n",
    "              'TiO2': 0.26,\n",
    "              'Al2O3': 4.79,\n",
    "              'FeOt': 4.18,\n",
    "              'MnO': 0.14,\n",
    "              'MgO': 17.37,\n",
    "              'CaO': 20.09,\n",
    "              'Na2O': 0.22,\n",
    "              'K2O': 0.0,\n",
    "              'Cr2O3': 1.40}\n",
    "\n",
    "borg_liq =   {'SiO2': 48.65,\n",
    "              'TiO2': 0.69,\n",
    "              'Al2O3': 14.52,\n",
    "              'FeOt': 9.28,\n",
    "              'MnO': 0.17,\n",
    "              'MgO': 12.01,\n",
    "              'CaO': 12.84,\n",
    "              'Na2O': 1.62,\n",
    "              'K2O': 0.05,\n",
    "              'Cr2O3': 0.12}"
   ]
  },
  {
   "cell_type": "markdown",
   "id": "f6931a11-d67e-4b17-aaf6-912b5fbfaa5f",
   "metadata": {},
   "source": [
    "Let's see what Thermobar needs:"
   ]
  },
  {
   "cell_type": "code",
   "execution_count": null,
   "id": "1ca725a1-de04-4b70-95ba-140478c57985",
   "metadata": {},
   "outputs": [],
   "source": [
    "Thermobar.calculate_cpx_liq_press?"
   ]
  },
  {
   "cell_type": "markdown",
   "id": "9d01fe5e-ada5-4d2d-ac88-e4249d6cebe1",
   "metadata": {},
   "source": [
    "So we need to give it the compositions as DataFrames with specific column headings. We can make these by manipulating the dictionaries defined above:"
   ]
  },
  {
   "cell_type": "code",
   "execution_count": null,
   "id": "54f0771e-d6d7-4df4-aba8-2d2101ef017e",
   "metadata": {},
   "outputs": [],
   "source": [
    "krafla_liq_renamed = {}\n",
    "for ox in krafla_liq:\n",
    "    krafla_liq_renamed[ox + '_Liq'] = krafla_liq[ox]\n",
    "    \n",
    "krafla_liq_df = pd.DataFrame([pd.Series(krafla_liq_renamed)])\n",
    "\n",
    "krafla_cpx_renamed = {}\n",
    "for ox in krafla_cpx:\n",
    "    krafla_cpx_renamed[ox + '_Cpx'] = krafla_cpx[ox]\n",
    "    \n",
    "krafla_cpx_df = pd.DataFrame([pd.Series(krafla_cpx_renamed)])\n",
    "\n",
    "borg_liq_renamed = {}\n",
    "for ox in borg_liq:\n",
    "    borg_liq_renamed[ox + '_Liq'] = borg_liq[ox]\n",
    "    \n",
    "borg_liq_df = pd.DataFrame([pd.Series(borg_liq_renamed)])\n",
    "\n",
    "borg_cpx_renamed = {}\n",
    "for ox in borg_cpx:\n",
    "    borg_cpx_renamed[ox + '_Cpx'] = borg_cpx[ox]\n",
    "    \n",
    "borg_cpx_df = pd.DataFrame([pd.Series(borg_cpx_renamed)])\n"
   ]
  },
  {
   "cell_type": "markdown",
   "id": "82f02fa5-d1c2-4a4e-993a-6ec5f4810898",
   "metadata": {},
   "source": [
    "Now we will call a function which will sumultaneously solve for temperature and pressure from the cpx-liquid equilibrium. The temperature is calculated using a cpx-liquid thermometer from [Putirka (2008)](https://doi.org/10.2138/rmg.2008.69.3). Note the extra information we have to give it:"
   ]
  },
  {
   "cell_type": "code",
   "execution_count": null,
   "id": "3fc5cb64-8079-4018-bf86-041452ded6a7",
   "metadata": {},
   "outputs": [],
   "source": [
    "Thermobar.calculate_cpx_liq_press_temp(equationP='P_Neave2017',\n",
    "                                       equationT='T_Put2008_eq33',\n",
    "                                       cpx_comps = krafla_cpx_df,\n",
    "                                       liq_comps = krafla_liq_df,\n",
    "                                       Fe3Fet_Liq=0.15,\n",
    "                                       H2O_Liq=0.0)"
   ]
  },
  {
   "cell_type": "markdown",
   "id": "141fd12e-b97a-488d-8a18-e1ebcaba7daf",
   "metadata": {},
   "source": [
    "Convert the temperature to ˚C:"
   ]
  },
  {
   "cell_type": "code",
   "execution_count": null,
   "id": "27532db4-a8d1-44b6-918d-8c99dbf6741d",
   "metadata": {},
   "outputs": [],
   "source": [
    "1459 - 273.15"
   ]
  },
  {
   "cell_type": "markdown",
   "id": "8579ea42-003b-4d97-b6f2-9a73642fe582",
   "metadata": {},
   "source": [
    "#### Q4.2: Repeat this calculation for Borgarhraun, using the data supplied above."
   ]
  },
  {
   "cell_type": "code",
   "execution_count": null,
   "id": "92abde9d-7233-4b56-9292-4a2e3eca4c00",
   "metadata": {},
   "outputs": [],
   "source": [
    "# Your code here...\n"
   ]
  },
  {
   "cell_type": "code",
   "execution_count": null,
   "id": "085b9cfc-7f91-47c4-98c3-1bae3c7ad4e1",
   "metadata": {},
   "outputs": [],
   "source": [
    "# Your code here...\n"
   ]
  },
  {
   "cell_type": "markdown",
   "id": "401b38ff-decc-445d-b224-d8be791cb610",
   "metadata": {},
   "source": [
    "#### Q4.3: Why do you think that the pyroxenes present in the samples in the thin sections show a distinctive anhedral shape?\n",
    "\n",
    "*HINT: You can look at [this paper](https://www.frontiersin.org/articles/10.3389/feart.2020.00188/full) for a little bit of extra info.*"
   ]
  },
  {
   "cell_type": "markdown",
   "id": "977086ca-9bb3-42e7-aa63-ed0a882f6267",
   "metadata": {},
   "source": [
    "*Your answer here...*"
   ]
  },
  {
   "cell_type": "markdown",
   "id": "c681e486-f721-4686-b094-0601595fc24f",
   "metadata": {},
   "source": [
    "## 5. Depth of crystallisation: Order of crystallisation \n",
    "\n",
    "Crystallisation experiments on MORB-like compositions indicate that the order of appearance of phases on the liquidus (i.e. the order of crystallisation) is dependent on pressure. At pressures of >6 kbar, the crystallisation assemblages evolve from ol → ol+cpx  → ol+cpx+plg. At lower pressures, plagioclase appears before clinopyroxene, giving, ol → ol+plg  → ol+plg+cpx.\n",
    "\n",
    "Recall from the thin section observations that the Borgarhraun eruption contains a number of cognate xenoliths, including gabbros, wehrlites (ol+cpx cumulates) and occasional troctolites (ol+ plag cumulates).\n",
    "\n",
    "#### Q5.11: Use the information in Figure 3 to estimate the order of crystallisation and the pressure of crystallisation (higher or lower than 6 kbar?):\n",
    "\n",
    "![*Figure 3: Compositions of co-existing mineral pairs in Borgarhraun cognate xenoliths. The blue circles (at higher Fo) are wehrlite cumulates. The red squares are gabbroic cumulates.*](crys_ord.png)\n",
    "\n",
    "**Figure 3:** *Compositions of co-existing mineral pairs in Borgarhraun cognate xenoliths. The blue circles (at higher Fo) are wehrlite cumulates. The red squares are gabbroic cumulates.*"
   ]
  },
  {
   "cell_type": "markdown",
   "id": "5c788e2c-9eba-4de7-b448-7028f7a3d932",
   "metadata": {},
   "source": [
    "*Your answer here...*"
   ]
  },
  {
   "cell_type": "markdown",
   "id": "5283c237-f056-4303-8c94-2be0ba25aee1",
   "metadata": {},
   "source": [
    "## 6. Depth of crystallisation: Liquid composition ##\n",
    "\n",
    "Experimental results have also shown that the composition of liquid in equilibrium with olivine, clinopyroxene and plagioclase varies as a function of pressure. A number of workers have parameterised this relationship. Projections of Krafla and Theistareykir sample compositions and predicted ol-cpx-plg saturated melts are shown in Figure 4. \n",
    "\n",
    "![*Figure 4: The compositions of whole-rock samples are projected from plagioclase onto the olivine-diopside-quartz face of the basalt tetrahedron. Circles are Theistareykir (including Borgarhraun) and squares Krafla. The predicted liquid compositions in equilibrium with ol-cpx-plag are shown as lines. Each line corresponds to a different pressure (here given in GPa).*](opam.png)\n",
    "\n",
    "**Figure 4:** *The compositions of whole-rock samples are projected from plagioclase onto the olivine-diopside-quartz face of the basalt tetrahedron. Circles are Theistareykir (including Borgarhraun) and squares Krafla. The predicted liquid compositions in equilibrium with ol-cpx-plag are shown as lines. Each line corresponds to a different pressure (here given in GPa).*\n",
    "\n",
    "#### Q6.1: Are the pressure estimates of Borgarhraun crystallisation from Figure 4 in agreement with those from other barometric methods?"
   ]
  },
  {
   "cell_type": "markdown",
   "id": "fd89b802-5314-40c4-8aee-8d9265785bae",
   "metadata": {},
   "source": [
    "*Your answer here...*"
   ]
  },
  {
   "cell_type": "markdown",
   "id": "de698018-4f9f-40a1-9691-c10c44c4e610",
   "metadata": {},
   "source": [
    "#### Q6.2: At what depth does crystallization of Borgarhraun melt take place? Is this above or below the Moho in northern Iceland?"
   ]
  },
  {
   "cell_type": "markdown",
   "id": "acd6bc9b-6c08-4a0f-8920-b01882a479c2",
   "metadata": {},
   "source": [
    "*Your answer here...*"
   ]
  },
  {
   "cell_type": "markdown",
   "id": "a4f1c863-b028-4dec-82cd-473d4ff07be5",
   "metadata": {},
   "source": [
    "#### Q6.3: Does crystallization of Krafla melt take place in the shallow chamber that has been seismically imaged at 3-5 km depth under the caldera?"
   ]
  },
  {
   "cell_type": "markdown",
   "id": "b79d5949-ffb0-45aa-b72e-fc7eddab3d69",
   "metadata": {},
   "source": [
    "*Your answer here...*"
   ]
  },
  {
   "cell_type": "markdown",
   "id": "dc50759a-e19f-48ac-9d7f-5322637fd9b7",
   "metadata": {},
   "source": [
    "#### Q6.4: Use the geophysical, petrological constraints to draw a conceptual model of crystallization under Krafla and Theistareykir. You may use the diagrams in Figure 1 as a starting point. Does the gabbro-glacier or stacked-sills model provide a better representation for crystallization under Iceland?"
   ]
  },
  {
   "cell_type": "markdown",
   "id": "000ed234-058c-45bf-9124-7c2cffc83aba",
   "metadata": {},
   "source": [
    "*Your answer here...*"
   ]
  },
  {
   "cell_type": "code",
   "execution_count": null,
   "id": "12a1c420-959d-4434-bdaa-c1bd44a1e77c",
   "metadata": {},
   "outputs": [],
   "source": []
  }
 ],
 "metadata": {
  "kernelspec": {
   "display_name": "Python 3 (ipykernel)",
   "language": "python",
   "name": "python3"
  },
  "language_info": {
   "codemirror_mode": {
    "name": "ipython",
    "version": 3
   },
   "file_extension": ".py",
   "mimetype": "text/x-python",
   "name": "python",
   "nbconvert_exporter": "python",
   "pygments_lexer": "ipython3",
   "version": "3.11.1"
  }
 },
 "nbformat": 4,
 "nbformat_minor": 5
}
